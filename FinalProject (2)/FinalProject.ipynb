{
 "metadata": {
  "name": "",
  "signature": "sha256:6b75deccec23677ae392405e3d2cd72224436c6e36040b0d6a185533c08beb55"
 },
 "nbformat": 3,
 "nbformat_minor": 0,
 "worksheets": [
  {
   "cells": [
    {
     "cell_type": "code",
     "collapsed": false,
     "input": [
      "#imports\n",
      "import numpy as np\n",
      "import pandas as pd\n",
      "import matplotlib.pyplot as plt\n",
      "from sklearn import datasets\n",
      "from sklearn import metrics\n",
      "from sklearn.svm import SVC\n",
      "import pyper as pr\n",
      "from pyper import *"
     ],
     "language": "python",
     "metadata": {},
     "outputs": [],
     "prompt_number": 1
    },
    {
     "cell_type": "code",
     "collapsed": false,
     "input": [
      "#imports the project data as a pandas data frame\n",
      "projectDF = pd.read_csv('cars93.csv', index_col = 0);\n",
      "projectDF"
     ],
     "language": "python",
     "metadata": {},
     "outputs": [
      {
       "html": [
        "<div style=\"max-height:1000px;max-width:1500px;overflow:auto;\">\n",
        "<table border=\"1\" class=\"dataframe\">\n",
        "  <thead>\n",
        "    <tr style=\"text-align: right;\">\n",
        "      <th></th>\n",
        "      <th>Manufacturer</th>\n",
        "      <th>Model</th>\n",
        "      <th>Type</th>\n",
        "      <th>Min.Price</th>\n",
        "      <th>Price</th>\n",
        "      <th>Max.Price</th>\n",
        "      <th>MPG.city</th>\n",
        "      <th>MPG.highway</th>\n",
        "      <th>AirBags</th>\n",
        "      <th>DriveTrain</th>\n",
        "      <th>...</th>\n",
        "      <th>Passengers</th>\n",
        "      <th>Length</th>\n",
        "      <th>Wheelbase</th>\n",
        "      <th>Width</th>\n",
        "      <th>Turn.circle</th>\n",
        "      <th>Rear.seat.room</th>\n",
        "      <th>Luggage.room</th>\n",
        "      <th>Weight</th>\n",
        "      <th>Origin</th>\n",
        "      <th>Make</th>\n",
        "    </tr>\n",
        "  </thead>\n",
        "  <tbody>\n",
        "    <tr>\n",
        "      <th>1 </th>\n",
        "      <td>      Acura</td>\n",
        "      <td>       Integra</td>\n",
        "      <td>   Small</td>\n",
        "      <td> 12.9</td>\n",
        "      <td> 15.9</td>\n",
        "      <td> 18.8</td>\n",
        "      <td> 25</td>\n",
        "      <td> 31</td>\n",
        "      <td>               None</td>\n",
        "      <td> Front</td>\n",
        "      <td>...</td>\n",
        "      <td> 5</td>\n",
        "      <td> 177</td>\n",
        "      <td> 102</td>\n",
        "      <td> 68</td>\n",
        "      <td> 37</td>\n",
        "      <td> 26.5</td>\n",
        "      <td> 11</td>\n",
        "      <td> 2705</td>\n",
        "      <td> non-USA</td>\n",
        "      <td>            Acura Integra</td>\n",
        "    </tr>\n",
        "    <tr>\n",
        "      <th>2 </th>\n",
        "      <td>      Acura</td>\n",
        "      <td>        Legend</td>\n",
        "      <td> Midsize</td>\n",
        "      <td> 29.2</td>\n",
        "      <td> 33.9</td>\n",
        "      <td> 38.7</td>\n",
        "      <td> 18</td>\n",
        "      <td> 25</td>\n",
        "      <td> Driver &amp; Passenger</td>\n",
        "      <td> Front</td>\n",
        "      <td>...</td>\n",
        "      <td> 5</td>\n",
        "      <td> 195</td>\n",
        "      <td> 115</td>\n",
        "      <td> 71</td>\n",
        "      <td> 38</td>\n",
        "      <td> 30.0</td>\n",
        "      <td> 15</td>\n",
        "      <td> 3560</td>\n",
        "      <td> non-USA</td>\n",
        "      <td>             Acura Legend</td>\n",
        "    </tr>\n",
        "    <tr>\n",
        "      <th>3 </th>\n",
        "      <td>       Audi</td>\n",
        "      <td>            90</td>\n",
        "      <td> Compact</td>\n",
        "      <td> 25.9</td>\n",
        "      <td> 29.1</td>\n",
        "      <td> 32.3</td>\n",
        "      <td> 20</td>\n",
        "      <td> 26</td>\n",
        "      <td>        Driver only</td>\n",
        "      <td> Front</td>\n",
        "      <td>...</td>\n",
        "      <td> 5</td>\n",
        "      <td> 180</td>\n",
        "      <td> 102</td>\n",
        "      <td> 67</td>\n",
        "      <td> 37</td>\n",
        "      <td> 28.0</td>\n",
        "      <td> 14</td>\n",
        "      <td> 3375</td>\n",
        "      <td> non-USA</td>\n",
        "      <td>                  Audi 90</td>\n",
        "    </tr>\n",
        "    <tr>\n",
        "      <th>4 </th>\n",
        "      <td>       Audi</td>\n",
        "      <td>           100</td>\n",
        "      <td> Midsize</td>\n",
        "      <td> 30.8</td>\n",
        "      <td> 37.7</td>\n",
        "      <td> 44.6</td>\n",
        "      <td> 19</td>\n",
        "      <td> 26</td>\n",
        "      <td> Driver &amp; Passenger</td>\n",
        "      <td> Front</td>\n",
        "      <td>...</td>\n",
        "      <td> 6</td>\n",
        "      <td> 193</td>\n",
        "      <td> 106</td>\n",
        "      <td> 70</td>\n",
        "      <td> 37</td>\n",
        "      <td> 31.0</td>\n",
        "      <td> 17</td>\n",
        "      <td> 3405</td>\n",
        "      <td> non-USA</td>\n",
        "      <td>                 Audi 100</td>\n",
        "    </tr>\n",
        "    <tr>\n",
        "      <th>5 </th>\n",
        "      <td>        BMW</td>\n",
        "      <td>          535i</td>\n",
        "      <td> Midsize</td>\n",
        "      <td> 23.7</td>\n",
        "      <td> 30.0</td>\n",
        "      <td> 36.2</td>\n",
        "      <td> 22</td>\n",
        "      <td> 30</td>\n",
        "      <td>        Driver only</td>\n",
        "      <td>  Rear</td>\n",
        "      <td>...</td>\n",
        "      <td> 4</td>\n",
        "      <td> 186</td>\n",
        "      <td> 109</td>\n",
        "      <td> 69</td>\n",
        "      <td> 39</td>\n",
        "      <td> 27.0</td>\n",
        "      <td> 13</td>\n",
        "      <td> 3640</td>\n",
        "      <td> non-USA</td>\n",
        "      <td>                 BMW 535i</td>\n",
        "    </tr>\n",
        "    <tr>\n",
        "      <th>6 </th>\n",
        "      <td>      Buick</td>\n",
        "      <td>       Century</td>\n",
        "      <td> Midsize</td>\n",
        "      <td> 14.2</td>\n",
        "      <td> 15.7</td>\n",
        "      <td> 17.3</td>\n",
        "      <td> 22</td>\n",
        "      <td> 31</td>\n",
        "      <td>        Driver only</td>\n",
        "      <td> Front</td>\n",
        "      <td>...</td>\n",
        "      <td> 6</td>\n",
        "      <td> 189</td>\n",
        "      <td> 105</td>\n",
        "      <td> 69</td>\n",
        "      <td> 41</td>\n",
        "      <td> 28.0</td>\n",
        "      <td> 16</td>\n",
        "      <td> 2880</td>\n",
        "      <td>     USA</td>\n",
        "      <td>            Buick Century</td>\n",
        "    </tr>\n",
        "    <tr>\n",
        "      <th>7 </th>\n",
        "      <td>      Buick</td>\n",
        "      <td>       LeSabre</td>\n",
        "      <td>   Large</td>\n",
        "      <td> 19.9</td>\n",
        "      <td> 20.8</td>\n",
        "      <td> 21.7</td>\n",
        "      <td> 19</td>\n",
        "      <td> 28</td>\n",
        "      <td>        Driver only</td>\n",
        "      <td> Front</td>\n",
        "      <td>...</td>\n",
        "      <td> 6</td>\n",
        "      <td> 200</td>\n",
        "      <td> 111</td>\n",
        "      <td> 74</td>\n",
        "      <td> 42</td>\n",
        "      <td> 30.5</td>\n",
        "      <td> 17</td>\n",
        "      <td> 3470</td>\n",
        "      <td>     USA</td>\n",
        "      <td>            Buick LeSabre</td>\n",
        "    </tr>\n",
        "    <tr>\n",
        "      <th>8 </th>\n",
        "      <td>      Buick</td>\n",
        "      <td>    Roadmaster</td>\n",
        "      <td>   Large</td>\n",
        "      <td> 22.6</td>\n",
        "      <td> 23.7</td>\n",
        "      <td> 24.9</td>\n",
        "      <td> 16</td>\n",
        "      <td> 25</td>\n",
        "      <td>        Driver only</td>\n",
        "      <td>  Rear</td>\n",
        "      <td>...</td>\n",
        "      <td> 6</td>\n",
        "      <td> 216</td>\n",
        "      <td> 116</td>\n",
        "      <td> 78</td>\n",
        "      <td> 45</td>\n",
        "      <td> 30.5</td>\n",
        "      <td> 21</td>\n",
        "      <td> 4105</td>\n",
        "      <td>     USA</td>\n",
        "      <td>         Buick Roadmaster</td>\n",
        "    </tr>\n",
        "    <tr>\n",
        "      <th>9 </th>\n",
        "      <td>      Buick</td>\n",
        "      <td>       Riviera</td>\n",
        "      <td> Midsize</td>\n",
        "      <td> 26.3</td>\n",
        "      <td> 26.3</td>\n",
        "      <td> 26.3</td>\n",
        "      <td> 19</td>\n",
        "      <td> 27</td>\n",
        "      <td>        Driver only</td>\n",
        "      <td> Front</td>\n",
        "      <td>...</td>\n",
        "      <td> 5</td>\n",
        "      <td> 198</td>\n",
        "      <td> 108</td>\n",
        "      <td> 73</td>\n",
        "      <td> 41</td>\n",
        "      <td> 26.5</td>\n",
        "      <td> 14</td>\n",
        "      <td> 3495</td>\n",
        "      <td>     USA</td>\n",
        "      <td>            Buick Riviera</td>\n",
        "    </tr>\n",
        "    <tr>\n",
        "      <th>10</th>\n",
        "      <td>   Cadillac</td>\n",
        "      <td>       DeVille</td>\n",
        "      <td>   Large</td>\n",
        "      <td> 33.0</td>\n",
        "      <td> 34.7</td>\n",
        "      <td> 36.3</td>\n",
        "      <td> 16</td>\n",
        "      <td> 25</td>\n",
        "      <td>        Driver only</td>\n",
        "      <td> Front</td>\n",
        "      <td>...</td>\n",
        "      <td> 6</td>\n",
        "      <td> 206</td>\n",
        "      <td> 114</td>\n",
        "      <td> 73</td>\n",
        "      <td> 43</td>\n",
        "      <td> 35.0</td>\n",
        "      <td> 18</td>\n",
        "      <td> 3620</td>\n",
        "      <td>     USA</td>\n",
        "      <td>         Cadillac DeVille</td>\n",
        "    </tr>\n",
        "    <tr>\n",
        "      <th>11</th>\n",
        "      <td>   Cadillac</td>\n",
        "      <td>       Seville</td>\n",
        "      <td> Midsize</td>\n",
        "      <td> 37.5</td>\n",
        "      <td> 40.1</td>\n",
        "      <td> 42.7</td>\n",
        "      <td> 16</td>\n",
        "      <td> 25</td>\n",
        "      <td> Driver &amp; Passenger</td>\n",
        "      <td> Front</td>\n",
        "      <td>...</td>\n",
        "      <td> 5</td>\n",
        "      <td> 204</td>\n",
        "      <td> 111</td>\n",
        "      <td> 74</td>\n",
        "      <td> 44</td>\n",
        "      <td> 31.0</td>\n",
        "      <td> 14</td>\n",
        "      <td> 3935</td>\n",
        "      <td>     USA</td>\n",
        "      <td>         Cadillac Seville</td>\n",
        "    </tr>\n",
        "    <tr>\n",
        "      <th>12</th>\n",
        "      <td>  Chevrolet</td>\n",
        "      <td>      Cavalier</td>\n",
        "      <td> Compact</td>\n",
        "      <td>  8.5</td>\n",
        "      <td> 13.4</td>\n",
        "      <td> 18.3</td>\n",
        "      <td> 25</td>\n",
        "      <td> 36</td>\n",
        "      <td>               None</td>\n",
        "      <td> Front</td>\n",
        "      <td>...</td>\n",
        "      <td> 5</td>\n",
        "      <td> 182</td>\n",
        "      <td> 101</td>\n",
        "      <td> 66</td>\n",
        "      <td> 38</td>\n",
        "      <td> 25.0</td>\n",
        "      <td> 13</td>\n",
        "      <td> 2490</td>\n",
        "      <td>     USA</td>\n",
        "      <td>       Chevrolet Cavalier</td>\n",
        "    </tr>\n",
        "    <tr>\n",
        "      <th>13</th>\n",
        "      <td>  Chevrolet</td>\n",
        "      <td>       Corsica</td>\n",
        "      <td> Compact</td>\n",
        "      <td> 11.4</td>\n",
        "      <td> 11.4</td>\n",
        "      <td> 11.4</td>\n",
        "      <td> 25</td>\n",
        "      <td> 34</td>\n",
        "      <td>        Driver only</td>\n",
        "      <td> Front</td>\n",
        "      <td>...</td>\n",
        "      <td> 5</td>\n",
        "      <td> 184</td>\n",
        "      <td> 103</td>\n",
        "      <td> 68</td>\n",
        "      <td> 39</td>\n",
        "      <td> 26.0</td>\n",
        "      <td> 14</td>\n",
        "      <td> 2785</td>\n",
        "      <td>     USA</td>\n",
        "      <td>        Chevrolet Corsica</td>\n",
        "    </tr>\n",
        "    <tr>\n",
        "      <th>14</th>\n",
        "      <td>  Chevrolet</td>\n",
        "      <td>        Camaro</td>\n",
        "      <td>  Sporty</td>\n",
        "      <td> 13.4</td>\n",
        "      <td> 15.1</td>\n",
        "      <td> 16.8</td>\n",
        "      <td> 19</td>\n",
        "      <td> 28</td>\n",
        "      <td> Driver &amp; Passenger</td>\n",
        "      <td>  Rear</td>\n",
        "      <td>...</td>\n",
        "      <td> 4</td>\n",
        "      <td> 193</td>\n",
        "      <td> 101</td>\n",
        "      <td> 74</td>\n",
        "      <td> 43</td>\n",
        "      <td> 25.0</td>\n",
        "      <td> 13</td>\n",
        "      <td> 3240</td>\n",
        "      <td>     USA</td>\n",
        "      <td>         Chevrolet Camaro</td>\n",
        "    </tr>\n",
        "    <tr>\n",
        "      <th>15</th>\n",
        "      <td>  Chevrolet</td>\n",
        "      <td>        Lumina</td>\n",
        "      <td> Midsize</td>\n",
        "      <td> 13.4</td>\n",
        "      <td> 15.9</td>\n",
        "      <td> 18.4</td>\n",
        "      <td> 21</td>\n",
        "      <td> 29</td>\n",
        "      <td>               None</td>\n",
        "      <td> Front</td>\n",
        "      <td>...</td>\n",
        "      <td> 6</td>\n",
        "      <td> 198</td>\n",
        "      <td> 108</td>\n",
        "      <td> 71</td>\n",
        "      <td> 40</td>\n",
        "      <td> 28.5</td>\n",
        "      <td> 16</td>\n",
        "      <td> 3195</td>\n",
        "      <td>     USA</td>\n",
        "      <td>         Chevrolet Lumina</td>\n",
        "    </tr>\n",
        "    <tr>\n",
        "      <th>16</th>\n",
        "      <td>  Chevrolet</td>\n",
        "      <td>    Lumina_APV</td>\n",
        "      <td>     Van</td>\n",
        "      <td> 14.7</td>\n",
        "      <td> 16.3</td>\n",
        "      <td> 18.0</td>\n",
        "      <td> 18</td>\n",
        "      <td> 23</td>\n",
        "      <td>               None</td>\n",
        "      <td> Front</td>\n",
        "      <td>...</td>\n",
        "      <td> 7</td>\n",
        "      <td> 178</td>\n",
        "      <td> 110</td>\n",
        "      <td> 74</td>\n",
        "      <td> 44</td>\n",
        "      <td> 30.5</td>\n",
        "      <td>NaN</td>\n",
        "      <td> 3715</td>\n",
        "      <td>     USA</td>\n",
        "      <td>     Chevrolet Lumina_APV</td>\n",
        "    </tr>\n",
        "    <tr>\n",
        "      <th>17</th>\n",
        "      <td>  Chevrolet</td>\n",
        "      <td>         Astro</td>\n",
        "      <td>     Van</td>\n",
        "      <td> 14.7</td>\n",
        "      <td> 16.6</td>\n",
        "      <td> 18.6</td>\n",
        "      <td> 15</td>\n",
        "      <td> 20</td>\n",
        "      <td>               None</td>\n",
        "      <td>   4WD</td>\n",
        "      <td>...</td>\n",
        "      <td> 8</td>\n",
        "      <td> 194</td>\n",
        "      <td> 111</td>\n",
        "      <td> 78</td>\n",
        "      <td> 42</td>\n",
        "      <td> 33.5</td>\n",
        "      <td>NaN</td>\n",
        "      <td> 4025</td>\n",
        "      <td>     USA</td>\n",
        "      <td>          Chevrolet Astro</td>\n",
        "    </tr>\n",
        "    <tr>\n",
        "      <th>18</th>\n",
        "      <td>  Chevrolet</td>\n",
        "      <td>       Caprice</td>\n",
        "      <td>   Large</td>\n",
        "      <td> 18.0</td>\n",
        "      <td> 18.8</td>\n",
        "      <td> 19.6</td>\n",
        "      <td> 17</td>\n",
        "      <td> 26</td>\n",
        "      <td>        Driver only</td>\n",
        "      <td>  Rear</td>\n",
        "      <td>...</td>\n",
        "      <td> 6</td>\n",
        "      <td> 214</td>\n",
        "      <td> 116</td>\n",
        "      <td> 77</td>\n",
        "      <td> 42</td>\n",
        "      <td> 29.5</td>\n",
        "      <td> 20</td>\n",
        "      <td> 3910</td>\n",
        "      <td>     USA</td>\n",
        "      <td>        Chevrolet Caprice</td>\n",
        "    </tr>\n",
        "    <tr>\n",
        "      <th>19</th>\n",
        "      <td>  Chevrolet</td>\n",
        "      <td>      Corvette</td>\n",
        "      <td>  Sporty</td>\n",
        "      <td> 34.6</td>\n",
        "      <td> 38.0</td>\n",
        "      <td> 41.5</td>\n",
        "      <td> 17</td>\n",
        "      <td> 25</td>\n",
        "      <td>        Driver only</td>\n",
        "      <td>  Rear</td>\n",
        "      <td>...</td>\n",
        "      <td> 2</td>\n",
        "      <td> 179</td>\n",
        "      <td>  96</td>\n",
        "      <td> 74</td>\n",
        "      <td> 43</td>\n",
        "      <td>  NaN</td>\n",
        "      <td>NaN</td>\n",
        "      <td> 3380</td>\n",
        "      <td>     USA</td>\n",
        "      <td>       Chevrolet Corvette</td>\n",
        "    </tr>\n",
        "    <tr>\n",
        "      <th>20</th>\n",
        "      <td>   Chrylser</td>\n",
        "      <td>      Concorde</td>\n",
        "      <td>   Large</td>\n",
        "      <td> 18.4</td>\n",
        "      <td> 18.4</td>\n",
        "      <td> 18.4</td>\n",
        "      <td> 20</td>\n",
        "      <td> 28</td>\n",
        "      <td> Driver &amp; Passenger</td>\n",
        "      <td> Front</td>\n",
        "      <td>...</td>\n",
        "      <td> 6</td>\n",
        "      <td> 203</td>\n",
        "      <td> 113</td>\n",
        "      <td> 74</td>\n",
        "      <td> 40</td>\n",
        "      <td> 31.0</td>\n",
        "      <td> 15</td>\n",
        "      <td> 3515</td>\n",
        "      <td>     USA</td>\n",
        "      <td>        Chrylser Concorde</td>\n",
        "    </tr>\n",
        "    <tr>\n",
        "      <th>21</th>\n",
        "      <td>   Chrysler</td>\n",
        "      <td>       LeBaron</td>\n",
        "      <td> Compact</td>\n",
        "      <td> 14.5</td>\n",
        "      <td> 15.8</td>\n",
        "      <td> 17.1</td>\n",
        "      <td> 23</td>\n",
        "      <td> 28</td>\n",
        "      <td> Driver &amp; Passenger</td>\n",
        "      <td> Front</td>\n",
        "      <td>...</td>\n",
        "      <td> 6</td>\n",
        "      <td> 183</td>\n",
        "      <td> 104</td>\n",
        "      <td> 68</td>\n",
        "      <td> 41</td>\n",
        "      <td> 30.5</td>\n",
        "      <td> 14</td>\n",
        "      <td> 3085</td>\n",
        "      <td>     USA</td>\n",
        "      <td>         Chrysler LeBaron</td>\n",
        "    </tr>\n",
        "    <tr>\n",
        "      <th>22</th>\n",
        "      <td>   Chrysler</td>\n",
        "      <td>      Imperial</td>\n",
        "      <td>   Large</td>\n",
        "      <td> 29.5</td>\n",
        "      <td> 29.5</td>\n",
        "      <td> 29.5</td>\n",
        "      <td> 20</td>\n",
        "      <td> 26</td>\n",
        "      <td>        Driver only</td>\n",
        "      <td> Front</td>\n",
        "      <td>...</td>\n",
        "      <td> 6</td>\n",
        "      <td> 203</td>\n",
        "      <td> 110</td>\n",
        "      <td> 69</td>\n",
        "      <td> 44</td>\n",
        "      <td> 36.0</td>\n",
        "      <td> 17</td>\n",
        "      <td> 3570</td>\n",
        "      <td>     USA</td>\n",
        "      <td>        Chrysler Imperial</td>\n",
        "    </tr>\n",
        "    <tr>\n",
        "      <th>23</th>\n",
        "      <td>      Dodge</td>\n",
        "      <td>          Colt</td>\n",
        "      <td>   Small</td>\n",
        "      <td>  7.9</td>\n",
        "      <td>  9.2</td>\n",
        "      <td> 10.6</td>\n",
        "      <td> 29</td>\n",
        "      <td> 33</td>\n",
        "      <td>               None</td>\n",
        "      <td> Front</td>\n",
        "      <td>...</td>\n",
        "      <td> 5</td>\n",
        "      <td> 174</td>\n",
        "      <td>  98</td>\n",
        "      <td> 66</td>\n",
        "      <td> 32</td>\n",
        "      <td> 26.5</td>\n",
        "      <td> 11</td>\n",
        "      <td> 2270</td>\n",
        "      <td>     USA</td>\n",
        "      <td>               Dodge Colt</td>\n",
        "    </tr>\n",
        "    <tr>\n",
        "      <th>24</th>\n",
        "      <td>      Dodge</td>\n",
        "      <td>        Shadow</td>\n",
        "      <td>   Small</td>\n",
        "      <td>  8.4</td>\n",
        "      <td> 11.3</td>\n",
        "      <td> 14.2</td>\n",
        "      <td> 23</td>\n",
        "      <td> 29</td>\n",
        "      <td>        Driver only</td>\n",
        "      <td> Front</td>\n",
        "      <td>...</td>\n",
        "      <td> 5</td>\n",
        "      <td> 172</td>\n",
        "      <td>  97</td>\n",
        "      <td> 67</td>\n",
        "      <td> 38</td>\n",
        "      <td> 26.5</td>\n",
        "      <td> 13</td>\n",
        "      <td> 2670</td>\n",
        "      <td>     USA</td>\n",
        "      <td>             Dodge Shadow</td>\n",
        "    </tr>\n",
        "    <tr>\n",
        "      <th>25</th>\n",
        "      <td>      Dodge</td>\n",
        "      <td>        Spirit</td>\n",
        "      <td> Compact</td>\n",
        "      <td> 11.9</td>\n",
        "      <td> 13.3</td>\n",
        "      <td> 14.7</td>\n",
        "      <td> 22</td>\n",
        "      <td> 27</td>\n",
        "      <td>        Driver only</td>\n",
        "      <td> Front</td>\n",
        "      <td>...</td>\n",
        "      <td> 6</td>\n",
        "      <td> 181</td>\n",
        "      <td> 104</td>\n",
        "      <td> 68</td>\n",
        "      <td> 39</td>\n",
        "      <td> 30.5</td>\n",
        "      <td> 14</td>\n",
        "      <td> 2970</td>\n",
        "      <td>     USA</td>\n",
        "      <td>             Dodge Spirit</td>\n",
        "    </tr>\n",
        "    <tr>\n",
        "      <th>26</th>\n",
        "      <td>      Dodge</td>\n",
        "      <td>       Caravan</td>\n",
        "      <td>     Van</td>\n",
        "      <td> 13.6</td>\n",
        "      <td> 19.0</td>\n",
        "      <td> 24.4</td>\n",
        "      <td> 17</td>\n",
        "      <td> 21</td>\n",
        "      <td>        Driver only</td>\n",
        "      <td>   4WD</td>\n",
        "      <td>...</td>\n",
        "      <td> 7</td>\n",
        "      <td> 175</td>\n",
        "      <td> 112</td>\n",
        "      <td> 72</td>\n",
        "      <td> 42</td>\n",
        "      <td> 26.5</td>\n",
        "      <td>NaN</td>\n",
        "      <td> 3705</td>\n",
        "      <td>     USA</td>\n",
        "      <td>            Dodge Caravan</td>\n",
        "    </tr>\n",
        "    <tr>\n",
        "      <th>27</th>\n",
        "      <td>      Dodge</td>\n",
        "      <td>       Dynasty</td>\n",
        "      <td> Midsize</td>\n",
        "      <td> 14.8</td>\n",
        "      <td> 15.6</td>\n",
        "      <td> 16.4</td>\n",
        "      <td> 21</td>\n",
        "      <td> 27</td>\n",
        "      <td>        Driver only</td>\n",
        "      <td> Front</td>\n",
        "      <td>...</td>\n",
        "      <td> 6</td>\n",
        "      <td> 192</td>\n",
        "      <td> 105</td>\n",
        "      <td> 69</td>\n",
        "      <td> 42</td>\n",
        "      <td> 30.5</td>\n",
        "      <td> 16</td>\n",
        "      <td> 3080</td>\n",
        "      <td>     USA</td>\n",
        "      <td>            Dodge Dynasty</td>\n",
        "    </tr>\n",
        "    <tr>\n",
        "      <th>28</th>\n",
        "      <td>      Dodge</td>\n",
        "      <td>       Stealth</td>\n",
        "      <td>  Sporty</td>\n",
        "      <td> 18.5</td>\n",
        "      <td> 25.8</td>\n",
        "      <td> 33.1</td>\n",
        "      <td> 18</td>\n",
        "      <td> 24</td>\n",
        "      <td>        Driver only</td>\n",
        "      <td>   4WD</td>\n",
        "      <td>...</td>\n",
        "      <td> 4</td>\n",
        "      <td> 180</td>\n",
        "      <td>  97</td>\n",
        "      <td> 72</td>\n",
        "      <td> 40</td>\n",
        "      <td> 20.0</td>\n",
        "      <td> 11</td>\n",
        "      <td> 3805</td>\n",
        "      <td>     USA</td>\n",
        "      <td>            Dodge Stealth</td>\n",
        "    </tr>\n",
        "    <tr>\n",
        "      <th>29</th>\n",
        "      <td>      Eagle</td>\n",
        "      <td>        Summit</td>\n",
        "      <td>   Small</td>\n",
        "      <td>  7.9</td>\n",
        "      <td> 12.2</td>\n",
        "      <td> 16.5</td>\n",
        "      <td> 29</td>\n",
        "      <td> 33</td>\n",
        "      <td>               None</td>\n",
        "      <td> Front</td>\n",
        "      <td>...</td>\n",
        "      <td> 5</td>\n",
        "      <td> 174</td>\n",
        "      <td>  98</td>\n",
        "      <td> 66</td>\n",
        "      <td> 36</td>\n",
        "      <td> 26.5</td>\n",
        "      <td> 11</td>\n",
        "      <td> 2295</td>\n",
        "      <td>     USA</td>\n",
        "      <td>             Eagle Summit</td>\n",
        "    </tr>\n",
        "    <tr>\n",
        "      <th>30</th>\n",
        "      <td>      Eagle</td>\n",
        "      <td>        Vision</td>\n",
        "      <td>   Large</td>\n",
        "      <td> 17.5</td>\n",
        "      <td> 19.3</td>\n",
        "      <td> 21.2</td>\n",
        "      <td> 20</td>\n",
        "      <td> 28</td>\n",
        "      <td> Driver &amp; Passenger</td>\n",
        "      <td> Front</td>\n",
        "      <td>...</td>\n",
        "      <td> 6</td>\n",
        "      <td> 202</td>\n",
        "      <td> 113</td>\n",
        "      <td> 74</td>\n",
        "      <td> 40</td>\n",
        "      <td> 30.0</td>\n",
        "      <td> 15</td>\n",
        "      <td> 3490</td>\n",
        "      <td>     USA</td>\n",
        "      <td>             Eagle Vision</td>\n",
        "    </tr>\n",
        "    <tr>\n",
        "      <th>...</th>\n",
        "      <td>...</td>\n",
        "      <td>...</td>\n",
        "      <td>...</td>\n",
        "      <td>...</td>\n",
        "      <td>...</td>\n",
        "      <td>...</td>\n",
        "      <td>...</td>\n",
        "      <td>...</td>\n",
        "      <td>...</td>\n",
        "      <td>...</td>\n",
        "      <td>...</td>\n",
        "      <td>...</td>\n",
        "      <td>...</td>\n",
        "      <td>...</td>\n",
        "      <td>...</td>\n",
        "      <td>...</td>\n",
        "      <td>...</td>\n",
        "      <td>...</td>\n",
        "      <td>...</td>\n",
        "      <td>...</td>\n",
        "      <td>...</td>\n",
        "    </tr>\n",
        "    <tr>\n",
        "      <th>64</th>\n",
        "      <td>     Nissan</td>\n",
        "      <td>        Sentra</td>\n",
        "      <td>   Small</td>\n",
        "      <td>  8.7</td>\n",
        "      <td> 11.8</td>\n",
        "      <td> 14.9</td>\n",
        "      <td> 29</td>\n",
        "      <td> 33</td>\n",
        "      <td>        Driver only</td>\n",
        "      <td> Front</td>\n",
        "      <td>...</td>\n",
        "      <td> 5</td>\n",
        "      <td> 170</td>\n",
        "      <td>  96</td>\n",
        "      <td> 66</td>\n",
        "      <td> 33</td>\n",
        "      <td> 26.0</td>\n",
        "      <td> 12</td>\n",
        "      <td> 2545</td>\n",
        "      <td> non-USA</td>\n",
        "      <td>            Nissan Sentra</td>\n",
        "    </tr>\n",
        "    <tr>\n",
        "      <th>65</th>\n",
        "      <td>     Nissan</td>\n",
        "      <td>        Altima</td>\n",
        "      <td> Compact</td>\n",
        "      <td> 13.0</td>\n",
        "      <td> 15.7</td>\n",
        "      <td> 18.3</td>\n",
        "      <td> 24</td>\n",
        "      <td> 30</td>\n",
        "      <td>        Driver only</td>\n",
        "      <td> Front</td>\n",
        "      <td>...</td>\n",
        "      <td> 5</td>\n",
        "      <td> 181</td>\n",
        "      <td> 103</td>\n",
        "      <td> 67</td>\n",
        "      <td> 40</td>\n",
        "      <td> 28.5</td>\n",
        "      <td> 14</td>\n",
        "      <td> 3050</td>\n",
        "      <td> non-USA</td>\n",
        "      <td>            Nissan Altima</td>\n",
        "    </tr>\n",
        "    <tr>\n",
        "      <th>66</th>\n",
        "      <td>     Nissan</td>\n",
        "      <td>         Quest</td>\n",
        "      <td>     Van</td>\n",
        "      <td> 16.7</td>\n",
        "      <td> 19.1</td>\n",
        "      <td> 21.5</td>\n",
        "      <td> 17</td>\n",
        "      <td> 23</td>\n",
        "      <td>               None</td>\n",
        "      <td> Front</td>\n",
        "      <td>...</td>\n",
        "      <td> 7</td>\n",
        "      <td> 190</td>\n",
        "      <td> 112</td>\n",
        "      <td> 74</td>\n",
        "      <td> 41</td>\n",
        "      <td> 27.0</td>\n",
        "      <td>NaN</td>\n",
        "      <td> 4100</td>\n",
        "      <td> non-USA</td>\n",
        "      <td>             Nissan Quest</td>\n",
        "    </tr>\n",
        "    <tr>\n",
        "      <th>67</th>\n",
        "      <td>     Nissan</td>\n",
        "      <td>        Maxima</td>\n",
        "      <td> Midsize</td>\n",
        "      <td> 21.0</td>\n",
        "      <td> 21.5</td>\n",
        "      <td> 22.0</td>\n",
        "      <td> 21</td>\n",
        "      <td> 26</td>\n",
        "      <td>        Driver only</td>\n",
        "      <td> Front</td>\n",
        "      <td>...</td>\n",
        "      <td> 5</td>\n",
        "      <td> 188</td>\n",
        "      <td> 104</td>\n",
        "      <td> 69</td>\n",
        "      <td> 41</td>\n",
        "      <td> 28.5</td>\n",
        "      <td> 14</td>\n",
        "      <td> 3200</td>\n",
        "      <td> non-USA</td>\n",
        "      <td>            Nissan Maxima</td>\n",
        "    </tr>\n",
        "    <tr>\n",
        "      <th>68</th>\n",
        "      <td> Oldsmobile</td>\n",
        "      <td>       Achieva</td>\n",
        "      <td> Compact</td>\n",
        "      <td> 13.0</td>\n",
        "      <td> 13.5</td>\n",
        "      <td> 14.0</td>\n",
        "      <td> 24</td>\n",
        "      <td> 31</td>\n",
        "      <td>               None</td>\n",
        "      <td> Front</td>\n",
        "      <td>...</td>\n",
        "      <td> 5</td>\n",
        "      <td> 188</td>\n",
        "      <td> 103</td>\n",
        "      <td> 67</td>\n",
        "      <td> 39</td>\n",
        "      <td> 28.0</td>\n",
        "      <td> 14</td>\n",
        "      <td> 2910</td>\n",
        "      <td>     USA</td>\n",
        "      <td>       Oldsmobile Achieva</td>\n",
        "    </tr>\n",
        "    <tr>\n",
        "      <th>69</th>\n",
        "      <td> Oldsmobile</td>\n",
        "      <td> Cutlass_Ciera</td>\n",
        "      <td> Midsize</td>\n",
        "      <td> 14.2</td>\n",
        "      <td> 16.3</td>\n",
        "      <td> 18.4</td>\n",
        "      <td> 23</td>\n",
        "      <td> 31</td>\n",
        "      <td>        Driver only</td>\n",
        "      <td> Front</td>\n",
        "      <td>...</td>\n",
        "      <td> 5</td>\n",
        "      <td> 190</td>\n",
        "      <td> 105</td>\n",
        "      <td> 70</td>\n",
        "      <td> 42</td>\n",
        "      <td> 28.0</td>\n",
        "      <td> 16</td>\n",
        "      <td> 2890</td>\n",
        "      <td>     USA</td>\n",
        "      <td> Oldsmobile Cutlass_Ciera</td>\n",
        "    </tr>\n",
        "    <tr>\n",
        "      <th>70</th>\n",
        "      <td> Oldsmobile</td>\n",
        "      <td>    Silhouette</td>\n",
        "      <td>     Van</td>\n",
        "      <td> 19.5</td>\n",
        "      <td> 19.5</td>\n",
        "      <td> 19.5</td>\n",
        "      <td> 18</td>\n",
        "      <td> 23</td>\n",
        "      <td>               None</td>\n",
        "      <td> Front</td>\n",
        "      <td>...</td>\n",
        "      <td> 7</td>\n",
        "      <td> 194</td>\n",
        "      <td> 110</td>\n",
        "      <td> 74</td>\n",
        "      <td> 44</td>\n",
        "      <td> 30.5</td>\n",
        "      <td>NaN</td>\n",
        "      <td> 3715</td>\n",
        "      <td>     USA</td>\n",
        "      <td>    Oldsmobile Silhouette</td>\n",
        "    </tr>\n",
        "    <tr>\n",
        "      <th>71</th>\n",
        "      <td> Oldsmobile</td>\n",
        "      <td>  Eighty-Eight</td>\n",
        "      <td>   Large</td>\n",
        "      <td> 19.5</td>\n",
        "      <td> 20.7</td>\n",
        "      <td> 21.9</td>\n",
        "      <td> 19</td>\n",
        "      <td> 28</td>\n",
        "      <td>        Driver only</td>\n",
        "      <td> Front</td>\n",
        "      <td>...</td>\n",
        "      <td> 6</td>\n",
        "      <td> 201</td>\n",
        "      <td> 111</td>\n",
        "      <td> 74</td>\n",
        "      <td> 42</td>\n",
        "      <td> 31.5</td>\n",
        "      <td> 17</td>\n",
        "      <td> 3470</td>\n",
        "      <td>     USA</td>\n",
        "      <td>  Oldsmobile Eighty-Eight</td>\n",
        "    </tr>\n",
        "    <tr>\n",
        "      <th>72</th>\n",
        "      <td>   Plymouth</td>\n",
        "      <td>         Laser</td>\n",
        "      <td>  Sporty</td>\n",
        "      <td> 11.4</td>\n",
        "      <td> 14.4</td>\n",
        "      <td> 17.4</td>\n",
        "      <td> 23</td>\n",
        "      <td> 30</td>\n",
        "      <td>               None</td>\n",
        "      <td>   4WD</td>\n",
        "      <td>...</td>\n",
        "      <td> 4</td>\n",
        "      <td> 173</td>\n",
        "      <td>  97</td>\n",
        "      <td> 67</td>\n",
        "      <td> 39</td>\n",
        "      <td> 24.5</td>\n",
        "      <td>  8</td>\n",
        "      <td> 2640</td>\n",
        "      <td>     USA</td>\n",
        "      <td>           Plymouth Laser</td>\n",
        "    </tr>\n",
        "    <tr>\n",
        "      <th>73</th>\n",
        "      <td>    Pontiac</td>\n",
        "      <td>        LeMans</td>\n",
        "      <td>   Small</td>\n",
        "      <td>  8.2</td>\n",
        "      <td>  9.0</td>\n",
        "      <td>  9.9</td>\n",
        "      <td> 31</td>\n",
        "      <td> 41</td>\n",
        "      <td>               None</td>\n",
        "      <td> Front</td>\n",
        "      <td>...</td>\n",
        "      <td> 4</td>\n",
        "      <td> 177</td>\n",
        "      <td>  99</td>\n",
        "      <td> 66</td>\n",
        "      <td> 35</td>\n",
        "      <td> 25.5</td>\n",
        "      <td> 17</td>\n",
        "      <td> 2350</td>\n",
        "      <td>     USA</td>\n",
        "      <td>           Pontiac LeMans</td>\n",
        "    </tr>\n",
        "    <tr>\n",
        "      <th>74</th>\n",
        "      <td>    Pontiac</td>\n",
        "      <td>       Sunbird</td>\n",
        "      <td> Compact</td>\n",
        "      <td>  9.4</td>\n",
        "      <td> 11.1</td>\n",
        "      <td> 12.8</td>\n",
        "      <td> 23</td>\n",
        "      <td> 31</td>\n",
        "      <td>               None</td>\n",
        "      <td> Front</td>\n",
        "      <td>...</td>\n",
        "      <td> 5</td>\n",
        "      <td> 181</td>\n",
        "      <td> 101</td>\n",
        "      <td> 66</td>\n",
        "      <td> 39</td>\n",
        "      <td> 25.0</td>\n",
        "      <td> 13</td>\n",
        "      <td> 2575</td>\n",
        "      <td>     USA</td>\n",
        "      <td>          Pontiac Sunbird</td>\n",
        "    </tr>\n",
        "    <tr>\n",
        "      <th>75</th>\n",
        "      <td>    Pontiac</td>\n",
        "      <td>      Firebird</td>\n",
        "      <td>  Sporty</td>\n",
        "      <td> 14.0</td>\n",
        "      <td> 17.7</td>\n",
        "      <td> 21.4</td>\n",
        "      <td> 19</td>\n",
        "      <td> 28</td>\n",
        "      <td> Driver &amp; Passenger</td>\n",
        "      <td>  Rear</td>\n",
        "      <td>...</td>\n",
        "      <td> 4</td>\n",
        "      <td> 196</td>\n",
        "      <td> 101</td>\n",
        "      <td> 75</td>\n",
        "      <td> 43</td>\n",
        "      <td> 25.0</td>\n",
        "      <td> 13</td>\n",
        "      <td> 3240</td>\n",
        "      <td>     USA</td>\n",
        "      <td>         Pontiac Firebird</td>\n",
        "    </tr>\n",
        "    <tr>\n",
        "      <th>76</th>\n",
        "      <td>    Pontiac</td>\n",
        "      <td>    Grand_Prix</td>\n",
        "      <td> Midsize</td>\n",
        "      <td> 15.4</td>\n",
        "      <td> 18.5</td>\n",
        "      <td> 21.6</td>\n",
        "      <td> 19</td>\n",
        "      <td> 27</td>\n",
        "      <td>               None</td>\n",
        "      <td> Front</td>\n",
        "      <td>...</td>\n",
        "      <td> 5</td>\n",
        "      <td> 195</td>\n",
        "      <td> 108</td>\n",
        "      <td> 72</td>\n",
        "      <td> 41</td>\n",
        "      <td> 28.5</td>\n",
        "      <td> 16</td>\n",
        "      <td> 3450</td>\n",
        "      <td>     USA</td>\n",
        "      <td>       Pontiac Grand_Prix</td>\n",
        "    </tr>\n",
        "    <tr>\n",
        "      <th>77</th>\n",
        "      <td>    Pontiac</td>\n",
        "      <td>    Bonneville</td>\n",
        "      <td>   Large</td>\n",
        "      <td> 19.4</td>\n",
        "      <td> 24.4</td>\n",
        "      <td> 29.4</td>\n",
        "      <td> 19</td>\n",
        "      <td> 28</td>\n",
        "      <td> Driver &amp; Passenger</td>\n",
        "      <td> Front</td>\n",
        "      <td>...</td>\n",
        "      <td> 6</td>\n",
        "      <td> 177</td>\n",
        "      <td> 111</td>\n",
        "      <td> 74</td>\n",
        "      <td> 43</td>\n",
        "      <td> 30.5</td>\n",
        "      <td> 18</td>\n",
        "      <td> 3495</td>\n",
        "      <td>     USA</td>\n",
        "      <td>       Pontiac Bonneville</td>\n",
        "    </tr>\n",
        "    <tr>\n",
        "      <th>78</th>\n",
        "      <td>       Saab</td>\n",
        "      <td>           900</td>\n",
        "      <td> Compact</td>\n",
        "      <td> 20.3</td>\n",
        "      <td> 28.7</td>\n",
        "      <td> 37.1</td>\n",
        "      <td> 20</td>\n",
        "      <td> 26</td>\n",
        "      <td>        Driver only</td>\n",
        "      <td> Front</td>\n",
        "      <td>...</td>\n",
        "      <td> 5</td>\n",
        "      <td> 184</td>\n",
        "      <td>  99</td>\n",
        "      <td> 67</td>\n",
        "      <td> 37</td>\n",
        "      <td> 26.5</td>\n",
        "      <td> 14</td>\n",
        "      <td> 2775</td>\n",
        "      <td> non-USA</td>\n",
        "      <td>                 Saab 900</td>\n",
        "    </tr>\n",
        "    <tr>\n",
        "      <th>79</th>\n",
        "      <td>     Saturn</td>\n",
        "      <td>            SL</td>\n",
        "      <td>   Small</td>\n",
        "      <td>  9.2</td>\n",
        "      <td> 11.1</td>\n",
        "      <td> 12.9</td>\n",
        "      <td> 28</td>\n",
        "      <td> 38</td>\n",
        "      <td>        Driver only</td>\n",
        "      <td> Front</td>\n",
        "      <td>...</td>\n",
        "      <td> 5</td>\n",
        "      <td> 176</td>\n",
        "      <td> 102</td>\n",
        "      <td> 68</td>\n",
        "      <td> 40</td>\n",
        "      <td> 26.5</td>\n",
        "      <td> 12</td>\n",
        "      <td> 2495</td>\n",
        "      <td>     USA</td>\n",
        "      <td>                Saturn SL</td>\n",
        "    </tr>\n",
        "    <tr>\n",
        "      <th>80</th>\n",
        "      <td>     Subaru</td>\n",
        "      <td>         Justy</td>\n",
        "      <td>   Small</td>\n",
        "      <td>  7.3</td>\n",
        "      <td>  8.4</td>\n",
        "      <td>  9.5</td>\n",
        "      <td> 33</td>\n",
        "      <td> 37</td>\n",
        "      <td>               None</td>\n",
        "      <td>   4WD</td>\n",
        "      <td>...</td>\n",
        "      <td> 4</td>\n",
        "      <td> 146</td>\n",
        "      <td>  90</td>\n",
        "      <td> 60</td>\n",
        "      <td> 32</td>\n",
        "      <td> 23.5</td>\n",
        "      <td> 10</td>\n",
        "      <td> 2045</td>\n",
        "      <td> non-USA</td>\n",
        "      <td>             Subaru Justy</td>\n",
        "    </tr>\n",
        "    <tr>\n",
        "      <th>81</th>\n",
        "      <td>     Subaru</td>\n",
        "      <td>        Loyale</td>\n",
        "      <td>   Small</td>\n",
        "      <td> 10.5</td>\n",
        "      <td> 10.9</td>\n",
        "      <td> 11.3</td>\n",
        "      <td> 25</td>\n",
        "      <td> 30</td>\n",
        "      <td>               None</td>\n",
        "      <td>   4WD</td>\n",
        "      <td>...</td>\n",
        "      <td> 5</td>\n",
        "      <td> 175</td>\n",
        "      <td>  97</td>\n",
        "      <td> 65</td>\n",
        "      <td> 35</td>\n",
        "      <td> 27.5</td>\n",
        "      <td> 15</td>\n",
        "      <td> 2490</td>\n",
        "      <td> non-USA</td>\n",
        "      <td>            Subaru Loyale</td>\n",
        "    </tr>\n",
        "    <tr>\n",
        "      <th>82</th>\n",
        "      <td>     Subaru</td>\n",
        "      <td>        Legacy</td>\n",
        "      <td> Compact</td>\n",
        "      <td> 16.3</td>\n",
        "      <td> 19.5</td>\n",
        "      <td> 22.7</td>\n",
        "      <td> 23</td>\n",
        "      <td> 30</td>\n",
        "      <td>        Driver only</td>\n",
        "      <td>   4WD</td>\n",
        "      <td>...</td>\n",
        "      <td> 5</td>\n",
        "      <td> 179</td>\n",
        "      <td> 102</td>\n",
        "      <td> 67</td>\n",
        "      <td> 37</td>\n",
        "      <td> 27.0</td>\n",
        "      <td> 14</td>\n",
        "      <td> 3085</td>\n",
        "      <td> non-USA</td>\n",
        "      <td>            Subaru Legacy</td>\n",
        "    </tr>\n",
        "    <tr>\n",
        "      <th>83</th>\n",
        "      <td>     Suzuki</td>\n",
        "      <td>         Swift</td>\n",
        "      <td>   Small</td>\n",
        "      <td>  7.3</td>\n",
        "      <td>  8.6</td>\n",
        "      <td> 10.0</td>\n",
        "      <td> 39</td>\n",
        "      <td> 43</td>\n",
        "      <td>               None</td>\n",
        "      <td> Front</td>\n",
        "      <td>...</td>\n",
        "      <td> 4</td>\n",
        "      <td> 161</td>\n",
        "      <td>  93</td>\n",
        "      <td> 63</td>\n",
        "      <td> 34</td>\n",
        "      <td> 27.5</td>\n",
        "      <td> 10</td>\n",
        "      <td> 1965</td>\n",
        "      <td> non-USA</td>\n",
        "      <td>             Suzuki Swift</td>\n",
        "    </tr>\n",
        "    <tr>\n",
        "      <th>84</th>\n",
        "      <td>     Toyota</td>\n",
        "      <td>        Tercel</td>\n",
        "      <td>   Small</td>\n",
        "      <td>  7.8</td>\n",
        "      <td>  9.8</td>\n",
        "      <td> 11.8</td>\n",
        "      <td> 32</td>\n",
        "      <td> 37</td>\n",
        "      <td>        Driver only</td>\n",
        "      <td> Front</td>\n",
        "      <td>...</td>\n",
        "      <td> 5</td>\n",
        "      <td> 162</td>\n",
        "      <td>  94</td>\n",
        "      <td> 65</td>\n",
        "      <td> 36</td>\n",
        "      <td> 24.0</td>\n",
        "      <td> 11</td>\n",
        "      <td> 2055</td>\n",
        "      <td> non-USA</td>\n",
        "      <td>            Toyota Tercel</td>\n",
        "    </tr>\n",
        "    <tr>\n",
        "      <th>85</th>\n",
        "      <td>     Toyota</td>\n",
        "      <td>        Celica</td>\n",
        "      <td>  Sporty</td>\n",
        "      <td> 14.2</td>\n",
        "      <td> 18.4</td>\n",
        "      <td> 22.6</td>\n",
        "      <td> 25</td>\n",
        "      <td> 32</td>\n",
        "      <td>        Driver only</td>\n",
        "      <td> Front</td>\n",
        "      <td>...</td>\n",
        "      <td> 4</td>\n",
        "      <td> 174</td>\n",
        "      <td>  99</td>\n",
        "      <td> 69</td>\n",
        "      <td> 39</td>\n",
        "      <td> 23.0</td>\n",
        "      <td> 13</td>\n",
        "      <td> 2950</td>\n",
        "      <td> non-USA</td>\n",
        "      <td>            Toyota Celica</td>\n",
        "    </tr>\n",
        "    <tr>\n",
        "      <th>86</th>\n",
        "      <td>     Toyota</td>\n",
        "      <td>         Camry</td>\n",
        "      <td> Midsize</td>\n",
        "      <td> 15.2</td>\n",
        "      <td> 18.2</td>\n",
        "      <td> 21.2</td>\n",
        "      <td> 22</td>\n",
        "      <td> 29</td>\n",
        "      <td>        Driver only</td>\n",
        "      <td> Front</td>\n",
        "      <td>...</td>\n",
        "      <td> 5</td>\n",
        "      <td> 188</td>\n",
        "      <td> 103</td>\n",
        "      <td> 70</td>\n",
        "      <td> 38</td>\n",
        "      <td> 28.5</td>\n",
        "      <td> 15</td>\n",
        "      <td> 3030</td>\n",
        "      <td> non-USA</td>\n",
        "      <td>             Toyota Camry</td>\n",
        "    </tr>\n",
        "    <tr>\n",
        "      <th>87</th>\n",
        "      <td>     Toyota</td>\n",
        "      <td>        Previa</td>\n",
        "      <td>     Van</td>\n",
        "      <td> 18.9</td>\n",
        "      <td> 22.7</td>\n",
        "      <td> 26.6</td>\n",
        "      <td> 18</td>\n",
        "      <td> 22</td>\n",
        "      <td>        Driver only</td>\n",
        "      <td>   4WD</td>\n",
        "      <td>...</td>\n",
        "      <td> 7</td>\n",
        "      <td> 187</td>\n",
        "      <td> 113</td>\n",
        "      <td> 71</td>\n",
        "      <td> 41</td>\n",
        "      <td> 35.0</td>\n",
        "      <td>NaN</td>\n",
        "      <td> 3785</td>\n",
        "      <td> non-USA</td>\n",
        "      <td>            Toyota Previa</td>\n",
        "    </tr>\n",
        "    <tr>\n",
        "      <th>88</th>\n",
        "      <td> Volkswagen</td>\n",
        "      <td>           Fox</td>\n",
        "      <td>   Small</td>\n",
        "      <td>  8.7</td>\n",
        "      <td>  9.1</td>\n",
        "      <td>  9.5</td>\n",
        "      <td> 25</td>\n",
        "      <td> 33</td>\n",
        "      <td>               None</td>\n",
        "      <td> Front</td>\n",
        "      <td>...</td>\n",
        "      <td> 4</td>\n",
        "      <td> 163</td>\n",
        "      <td>  93</td>\n",
        "      <td> 63</td>\n",
        "      <td> 34</td>\n",
        "      <td> 26.0</td>\n",
        "      <td> 10</td>\n",
        "      <td> 2240</td>\n",
        "      <td> non-USA</td>\n",
        "      <td>           Volkswagen Fox</td>\n",
        "    </tr>\n",
        "    <tr>\n",
        "      <th>89</th>\n",
        "      <td> Volkswagen</td>\n",
        "      <td>       Eurovan</td>\n",
        "      <td>     Van</td>\n",
        "      <td> 16.6</td>\n",
        "      <td> 19.7</td>\n",
        "      <td> 22.7</td>\n",
        "      <td> 17</td>\n",
        "      <td> 21</td>\n",
        "      <td>               None</td>\n",
        "      <td> Front</td>\n",
        "      <td>...</td>\n",
        "      <td> 7</td>\n",
        "      <td> 187</td>\n",
        "      <td> 115</td>\n",
        "      <td> 72</td>\n",
        "      <td> 38</td>\n",
        "      <td> 34.0</td>\n",
        "      <td>NaN</td>\n",
        "      <td> 3960</td>\n",
        "      <td> non-USA</td>\n",
        "      <td>       Volkswagen Eurovan</td>\n",
        "    </tr>\n",
        "    <tr>\n",
        "      <th>90</th>\n",
        "      <td> Volkswagen</td>\n",
        "      <td>        Passat</td>\n",
        "      <td> Compact</td>\n",
        "      <td> 17.6</td>\n",
        "      <td> 20.0</td>\n",
        "      <td> 22.4</td>\n",
        "      <td> 21</td>\n",
        "      <td> 30</td>\n",
        "      <td>               None</td>\n",
        "      <td> Front</td>\n",
        "      <td>...</td>\n",
        "      <td> 5</td>\n",
        "      <td> 180</td>\n",
        "      <td> 103</td>\n",
        "      <td> 67</td>\n",
        "      <td> 35</td>\n",
        "      <td> 31.5</td>\n",
        "      <td> 14</td>\n",
        "      <td> 2985</td>\n",
        "      <td> non-USA</td>\n",
        "      <td>        Volkswagen Passat</td>\n",
        "    </tr>\n",
        "    <tr>\n",
        "      <th>91</th>\n",
        "      <td> Volkswagen</td>\n",
        "      <td>       Corrado</td>\n",
        "      <td>  Sporty</td>\n",
        "      <td> 22.9</td>\n",
        "      <td> 23.3</td>\n",
        "      <td> 23.7</td>\n",
        "      <td> 18</td>\n",
        "      <td> 25</td>\n",
        "      <td>               None</td>\n",
        "      <td> Front</td>\n",
        "      <td>...</td>\n",
        "      <td> 4</td>\n",
        "      <td> 159</td>\n",
        "      <td>  97</td>\n",
        "      <td> 66</td>\n",
        "      <td> 36</td>\n",
        "      <td> 26.0</td>\n",
        "      <td> 15</td>\n",
        "      <td> 2810</td>\n",
        "      <td> non-USA</td>\n",
        "      <td>       Volkswagen Corrado</td>\n",
        "    </tr>\n",
        "    <tr>\n",
        "      <th>92</th>\n",
        "      <td>      Volvo</td>\n",
        "      <td>           240</td>\n",
        "      <td> Compact</td>\n",
        "      <td> 21.8</td>\n",
        "      <td> 22.7</td>\n",
        "      <td> 23.5</td>\n",
        "      <td> 21</td>\n",
        "      <td> 28</td>\n",
        "      <td>        Driver only</td>\n",
        "      <td>  Rear</td>\n",
        "      <td>...</td>\n",
        "      <td> 5</td>\n",
        "      <td> 190</td>\n",
        "      <td> 104</td>\n",
        "      <td> 67</td>\n",
        "      <td> 37</td>\n",
        "      <td> 29.5</td>\n",
        "      <td> 14</td>\n",
        "      <td> 2985</td>\n",
        "      <td> non-USA</td>\n",
        "      <td>                Volvo 240</td>\n",
        "    </tr>\n",
        "    <tr>\n",
        "      <th>93</th>\n",
        "      <td>      Volvo</td>\n",
        "      <td>           850</td>\n",
        "      <td> Midsize</td>\n",
        "      <td> 24.8</td>\n",
        "      <td> 26.7</td>\n",
        "      <td> 28.5</td>\n",
        "      <td> 20</td>\n",
        "      <td> 28</td>\n",
        "      <td> Driver &amp; Passenger</td>\n",
        "      <td> Front</td>\n",
        "      <td>...</td>\n",
        "      <td> 5</td>\n",
        "      <td> 184</td>\n",
        "      <td> 105</td>\n",
        "      <td> 69</td>\n",
        "      <td> 38</td>\n",
        "      <td> 30.0</td>\n",
        "      <td> 15</td>\n",
        "      <td> 3245</td>\n",
        "      <td> non-USA</td>\n",
        "      <td>                Volvo 850</td>\n",
        "    </tr>\n",
        "  </tbody>\n",
        "</table>\n",
        "<p>93 rows \u00d7 27 columns</p>\n",
        "</div>"
       ],
       "metadata": {},
       "output_type": "pyout",
       "prompt_number": 2,
       "text": [
        "   Manufacturer          Model     Type  Min.Price  Price  Max.Price  \\\n",
        "1         Acura        Integra    Small       12.9   15.9       18.8   \n",
        "2         Acura         Legend  Midsize       29.2   33.9       38.7   \n",
        "3          Audi             90  Compact       25.9   29.1       32.3   \n",
        "4          Audi            100  Midsize       30.8   37.7       44.6   \n",
        "5           BMW           535i  Midsize       23.7   30.0       36.2   \n",
        "6         Buick        Century  Midsize       14.2   15.7       17.3   \n",
        "7         Buick        LeSabre    Large       19.9   20.8       21.7   \n",
        "8         Buick     Roadmaster    Large       22.6   23.7       24.9   \n",
        "9         Buick        Riviera  Midsize       26.3   26.3       26.3   \n",
        "10     Cadillac        DeVille    Large       33.0   34.7       36.3   \n",
        "11     Cadillac        Seville  Midsize       37.5   40.1       42.7   \n",
        "12    Chevrolet       Cavalier  Compact        8.5   13.4       18.3   \n",
        "13    Chevrolet        Corsica  Compact       11.4   11.4       11.4   \n",
        "14    Chevrolet         Camaro   Sporty       13.4   15.1       16.8   \n",
        "15    Chevrolet         Lumina  Midsize       13.4   15.9       18.4   \n",
        "16    Chevrolet     Lumina_APV      Van       14.7   16.3       18.0   \n",
        "17    Chevrolet          Astro      Van       14.7   16.6       18.6   \n",
        "18    Chevrolet        Caprice    Large       18.0   18.8       19.6   \n",
        "19    Chevrolet       Corvette   Sporty       34.6   38.0       41.5   \n",
        "20     Chrylser       Concorde    Large       18.4   18.4       18.4   \n",
        "21     Chrysler        LeBaron  Compact       14.5   15.8       17.1   \n",
        "22     Chrysler       Imperial    Large       29.5   29.5       29.5   \n",
        "23        Dodge           Colt    Small        7.9    9.2       10.6   \n",
        "24        Dodge         Shadow    Small        8.4   11.3       14.2   \n",
        "25        Dodge         Spirit  Compact       11.9   13.3       14.7   \n",
        "26        Dodge        Caravan      Van       13.6   19.0       24.4   \n",
        "27        Dodge        Dynasty  Midsize       14.8   15.6       16.4   \n",
        "28        Dodge        Stealth   Sporty       18.5   25.8       33.1   \n",
        "29        Eagle         Summit    Small        7.9   12.2       16.5   \n",
        "30        Eagle         Vision    Large       17.5   19.3       21.2   \n",
        "..          ...            ...      ...        ...    ...        ...   \n",
        "64       Nissan         Sentra    Small        8.7   11.8       14.9   \n",
        "65       Nissan         Altima  Compact       13.0   15.7       18.3   \n",
        "66       Nissan          Quest      Van       16.7   19.1       21.5   \n",
        "67       Nissan         Maxima  Midsize       21.0   21.5       22.0   \n",
        "68   Oldsmobile        Achieva  Compact       13.0   13.5       14.0   \n",
        "69   Oldsmobile  Cutlass_Ciera  Midsize       14.2   16.3       18.4   \n",
        "70   Oldsmobile     Silhouette      Van       19.5   19.5       19.5   \n",
        "71   Oldsmobile   Eighty-Eight    Large       19.5   20.7       21.9   \n",
        "72     Plymouth          Laser   Sporty       11.4   14.4       17.4   \n",
        "73      Pontiac         LeMans    Small        8.2    9.0        9.9   \n",
        "74      Pontiac        Sunbird  Compact        9.4   11.1       12.8   \n",
        "75      Pontiac       Firebird   Sporty       14.0   17.7       21.4   \n",
        "76      Pontiac     Grand_Prix  Midsize       15.4   18.5       21.6   \n",
        "77      Pontiac     Bonneville    Large       19.4   24.4       29.4   \n",
        "78         Saab            900  Compact       20.3   28.7       37.1   \n",
        "79       Saturn             SL    Small        9.2   11.1       12.9   \n",
        "80       Subaru          Justy    Small        7.3    8.4        9.5   \n",
        "81       Subaru         Loyale    Small       10.5   10.9       11.3   \n",
        "82       Subaru         Legacy  Compact       16.3   19.5       22.7   \n",
        "83       Suzuki          Swift    Small        7.3    8.6       10.0   \n",
        "84       Toyota         Tercel    Small        7.8    9.8       11.8   \n",
        "85       Toyota         Celica   Sporty       14.2   18.4       22.6   \n",
        "86       Toyota          Camry  Midsize       15.2   18.2       21.2   \n",
        "87       Toyota         Previa      Van       18.9   22.7       26.6   \n",
        "88   Volkswagen            Fox    Small        8.7    9.1        9.5   \n",
        "89   Volkswagen        Eurovan      Van       16.6   19.7       22.7   \n",
        "90   Volkswagen         Passat  Compact       17.6   20.0       22.4   \n",
        "91   Volkswagen        Corrado   Sporty       22.9   23.3       23.7   \n",
        "92        Volvo            240  Compact       21.8   22.7       23.5   \n",
        "93        Volvo            850  Midsize       24.8   26.7       28.5   \n",
        "\n",
        "    MPG.city  MPG.highway             AirBags DriveTrain  \\\n",
        "1         25           31                None      Front   \n",
        "2         18           25  Driver & Passenger      Front   \n",
        "3         20           26         Driver only      Front   \n",
        "4         19           26  Driver & Passenger      Front   \n",
        "5         22           30         Driver only       Rear   \n",
        "6         22           31         Driver only      Front   \n",
        "7         19           28         Driver only      Front   \n",
        "8         16           25         Driver only       Rear   \n",
        "9         19           27         Driver only      Front   \n",
        "10        16           25         Driver only      Front   \n",
        "11        16           25  Driver & Passenger      Front   \n",
        "12        25           36                None      Front   \n",
        "13        25           34         Driver only      Front   \n",
        "14        19           28  Driver & Passenger       Rear   \n",
        "15        21           29                None      Front   \n",
        "16        18           23                None      Front   \n",
        "17        15           20                None        4WD   \n",
        "18        17           26         Driver only       Rear   \n",
        "19        17           25         Driver only       Rear   \n",
        "20        20           28  Driver & Passenger      Front   \n",
        "21        23           28  Driver & Passenger      Front   \n",
        "22        20           26         Driver only      Front   \n",
        "23        29           33                None      Front   \n",
        "24        23           29         Driver only      Front   \n",
        "25        22           27         Driver only      Front   \n",
        "26        17           21         Driver only        4WD   \n",
        "27        21           27         Driver only      Front   \n",
        "28        18           24         Driver only        4WD   \n",
        "29        29           33                None      Front   \n",
        "30        20           28  Driver & Passenger      Front   \n",
        "..       ...          ...                 ...        ...   \n",
        "64        29           33         Driver only      Front   \n",
        "65        24           30         Driver only      Front   \n",
        "66        17           23                None      Front   \n",
        "67        21           26         Driver only      Front   \n",
        "68        24           31                None      Front   \n",
        "69        23           31         Driver only      Front   \n",
        "70        18           23                None      Front   \n",
        "71        19           28         Driver only      Front   \n",
        "72        23           30                None        4WD   \n",
        "73        31           41                None      Front   \n",
        "74        23           31                None      Front   \n",
        "75        19           28  Driver & Passenger       Rear   \n",
        "76        19           27                None      Front   \n",
        "77        19           28  Driver & Passenger      Front   \n",
        "78        20           26         Driver only      Front   \n",
        "79        28           38         Driver only      Front   \n",
        "80        33           37                None        4WD   \n",
        "81        25           30                None        4WD   \n",
        "82        23           30         Driver only        4WD   \n",
        "83        39           43                None      Front   \n",
        "84        32           37         Driver only      Front   \n",
        "85        25           32         Driver only      Front   \n",
        "86        22           29         Driver only      Front   \n",
        "87        18           22         Driver only        4WD   \n",
        "88        25           33                None      Front   \n",
        "89        17           21                None      Front   \n",
        "90        21           30                None      Front   \n",
        "91        18           25                None      Front   \n",
        "92        21           28         Driver only       Rear   \n",
        "93        20           28  Driver & Passenger      Front   \n",
        "\n",
        "              ...            Passengers  Length  Wheelbase  Width  \\\n",
        "1             ...                     5     177        102     68   \n",
        "2             ...                     5     195        115     71   \n",
        "3             ...                     5     180        102     67   \n",
        "4             ...                     6     193        106     70   \n",
        "5             ...                     4     186        109     69   \n",
        "6             ...                     6     189        105     69   \n",
        "7             ...                     6     200        111     74   \n",
        "8             ...                     6     216        116     78   \n",
        "9             ...                     5     198        108     73   \n",
        "10            ...                     6     206        114     73   \n",
        "11            ...                     5     204        111     74   \n",
        "12            ...                     5     182        101     66   \n",
        "13            ...                     5     184        103     68   \n",
        "14            ...                     4     193        101     74   \n",
        "15            ...                     6     198        108     71   \n",
        "16            ...                     7     178        110     74   \n",
        "17            ...                     8     194        111     78   \n",
        "18            ...                     6     214        116     77   \n",
        "19            ...                     2     179         96     74   \n",
        "20            ...                     6     203        113     74   \n",
        "21            ...                     6     183        104     68   \n",
        "22            ...                     6     203        110     69   \n",
        "23            ...                     5     174         98     66   \n",
        "24            ...                     5     172         97     67   \n",
        "25            ...                     6     181        104     68   \n",
        "26            ...                     7     175        112     72   \n",
        "27            ...                     6     192        105     69   \n",
        "28            ...                     4     180         97     72   \n",
        "29            ...                     5     174         98     66   \n",
        "30            ...                     6     202        113     74   \n",
        "..            ...                   ...     ...        ...    ...   \n",
        "64            ...                     5     170         96     66   \n",
        "65            ...                     5     181        103     67   \n",
        "66            ...                     7     190        112     74   \n",
        "67            ...                     5     188        104     69   \n",
        "68            ...                     5     188        103     67   \n",
        "69            ...                     5     190        105     70   \n",
        "70            ...                     7     194        110     74   \n",
        "71            ...                     6     201        111     74   \n",
        "72            ...                     4     173         97     67   \n",
        "73            ...                     4     177         99     66   \n",
        "74            ...                     5     181        101     66   \n",
        "75            ...                     4     196        101     75   \n",
        "76            ...                     5     195        108     72   \n",
        "77            ...                     6     177        111     74   \n",
        "78            ...                     5     184         99     67   \n",
        "79            ...                     5     176        102     68   \n",
        "80            ...                     4     146         90     60   \n",
        "81            ...                     5     175         97     65   \n",
        "82            ...                     5     179        102     67   \n",
        "83            ...                     4     161         93     63   \n",
        "84            ...                     5     162         94     65   \n",
        "85            ...                     4     174         99     69   \n",
        "86            ...                     5     188        103     70   \n",
        "87            ...                     7     187        113     71   \n",
        "88            ...                     4     163         93     63   \n",
        "89            ...                     7     187        115     72   \n",
        "90            ...                     5     180        103     67   \n",
        "91            ...                     4     159         97     66   \n",
        "92            ...                     5     190        104     67   \n",
        "93            ...                     5     184        105     69   \n",
        "\n",
        "    Turn.circle Rear.seat.room  Luggage.room  Weight   Origin  \\\n",
        "1            37           26.5            11    2705  non-USA   \n",
        "2            38           30.0            15    3560  non-USA   \n",
        "3            37           28.0            14    3375  non-USA   \n",
        "4            37           31.0            17    3405  non-USA   \n",
        "5            39           27.0            13    3640  non-USA   \n",
        "6            41           28.0            16    2880      USA   \n",
        "7            42           30.5            17    3470      USA   \n",
        "8            45           30.5            21    4105      USA   \n",
        "9            41           26.5            14    3495      USA   \n",
        "10           43           35.0            18    3620      USA   \n",
        "11           44           31.0            14    3935      USA   \n",
        "12           38           25.0            13    2490      USA   \n",
        "13           39           26.0            14    2785      USA   \n",
        "14           43           25.0            13    3240      USA   \n",
        "15           40           28.5            16    3195      USA   \n",
        "16           44           30.5           NaN    3715      USA   \n",
        "17           42           33.5           NaN    4025      USA   \n",
        "18           42           29.5            20    3910      USA   \n",
        "19           43            NaN           NaN    3380      USA   \n",
        "20           40           31.0            15    3515      USA   \n",
        "21           41           30.5            14    3085      USA   \n",
        "22           44           36.0            17    3570      USA   \n",
        "23           32           26.5            11    2270      USA   \n",
        "24           38           26.5            13    2670      USA   \n",
        "25           39           30.5            14    2970      USA   \n",
        "26           42           26.5           NaN    3705      USA   \n",
        "27           42           30.5            16    3080      USA   \n",
        "28           40           20.0            11    3805      USA   \n",
        "29           36           26.5            11    2295      USA   \n",
        "30           40           30.0            15    3490      USA   \n",
        "..          ...            ...           ...     ...      ...   \n",
        "64           33           26.0            12    2545  non-USA   \n",
        "65           40           28.5            14    3050  non-USA   \n",
        "66           41           27.0           NaN    4100  non-USA   \n",
        "67           41           28.5            14    3200  non-USA   \n",
        "68           39           28.0            14    2910      USA   \n",
        "69           42           28.0            16    2890      USA   \n",
        "70           44           30.5           NaN    3715      USA   \n",
        "71           42           31.5            17    3470      USA   \n",
        "72           39           24.5             8    2640      USA   \n",
        "73           35           25.5            17    2350      USA   \n",
        "74           39           25.0            13    2575      USA   \n",
        "75           43           25.0            13    3240      USA   \n",
        "76           41           28.5            16    3450      USA   \n",
        "77           43           30.5            18    3495      USA   \n",
        "78           37           26.5            14    2775  non-USA   \n",
        "79           40           26.5            12    2495      USA   \n",
        "80           32           23.5            10    2045  non-USA   \n",
        "81           35           27.5            15    2490  non-USA   \n",
        "82           37           27.0            14    3085  non-USA   \n",
        "83           34           27.5            10    1965  non-USA   \n",
        "84           36           24.0            11    2055  non-USA   \n",
        "85           39           23.0            13    2950  non-USA   \n",
        "86           38           28.5            15    3030  non-USA   \n",
        "87           41           35.0           NaN    3785  non-USA   \n",
        "88           34           26.0            10    2240  non-USA   \n",
        "89           38           34.0           NaN    3960  non-USA   \n",
        "90           35           31.5            14    2985  non-USA   \n",
        "91           36           26.0            15    2810  non-USA   \n",
        "92           37           29.5            14    2985  non-USA   \n",
        "93           38           30.0            15    3245  non-USA   \n",
        "\n",
        "                        Make  \n",
        "1              Acura Integra  \n",
        "2               Acura Legend  \n",
        "3                    Audi 90  \n",
        "4                   Audi 100  \n",
        "5                   BMW 535i  \n",
        "6              Buick Century  \n",
        "7              Buick LeSabre  \n",
        "8           Buick Roadmaster  \n",
        "9              Buick Riviera  \n",
        "10          Cadillac DeVille  \n",
        "11          Cadillac Seville  \n",
        "12        Chevrolet Cavalier  \n",
        "13         Chevrolet Corsica  \n",
        "14          Chevrolet Camaro  \n",
        "15          Chevrolet Lumina  \n",
        "16      Chevrolet Lumina_APV  \n",
        "17           Chevrolet Astro  \n",
        "18         Chevrolet Caprice  \n",
        "19        Chevrolet Corvette  \n",
        "20         Chrylser Concorde  \n",
        "21          Chrysler LeBaron  \n",
        "22         Chrysler Imperial  \n",
        "23                Dodge Colt  \n",
        "24              Dodge Shadow  \n",
        "25              Dodge Spirit  \n",
        "26             Dodge Caravan  \n",
        "27             Dodge Dynasty  \n",
        "28             Dodge Stealth  \n",
        "29              Eagle Summit  \n",
        "30              Eagle Vision  \n",
        "..                       ...  \n",
        "64             Nissan Sentra  \n",
        "65             Nissan Altima  \n",
        "66              Nissan Quest  \n",
        "67             Nissan Maxima  \n",
        "68        Oldsmobile Achieva  \n",
        "69  Oldsmobile Cutlass_Ciera  \n",
        "70     Oldsmobile Silhouette  \n",
        "71   Oldsmobile Eighty-Eight  \n",
        "72            Plymouth Laser  \n",
        "73            Pontiac LeMans  \n",
        "74           Pontiac Sunbird  \n",
        "75          Pontiac Firebird  \n",
        "76        Pontiac Grand_Prix  \n",
        "77        Pontiac Bonneville  \n",
        "78                  Saab 900  \n",
        "79                 Saturn SL  \n",
        "80              Subaru Justy  \n",
        "81             Subaru Loyale  \n",
        "82             Subaru Legacy  \n",
        "83              Suzuki Swift  \n",
        "84             Toyota Tercel  \n",
        "85             Toyota Celica  \n",
        "86              Toyota Camry  \n",
        "87             Toyota Previa  \n",
        "88            Volkswagen Fox  \n",
        "89        Volkswagen Eurovan  \n",
        "90         Volkswagen Passat  \n",
        "91        Volkswagen Corrado  \n",
        "92                 Volvo 240  \n",
        "93                 Volvo 850  \n",
        "\n",
        "[93 rows x 27 columns]"
       ]
      }
     ],
     "prompt_number": 2
    },
    {
     "cell_type": "code",
     "collapsed": false,
     "input": [
      "#turn a nurmerical column into a categorical variable\n",
      "#first create the bins, i created these based on the min, 25%, 50%, 75% and max values, i used 1 under the min\n",
      "#since it is not inclusive on the bottom end\n",
      "bins = [14,18,21,25,46];\n",
      "#these bins will cut the numerical column into 4 evenly distrubuted categories\n",
      "projectDF['MPG.city'] = pd.cut(projectDF['MPG.city'],bins);"
     ],
     "language": "python",
     "metadata": {},
     "outputs": [],
     "prompt_number": 3
    },
    {
     "cell_type": "code",
     "collapsed": false,
     "input": [
      "#deleting the make column since it is literally just manufacturer + model\n",
      "projectDF = projectDF.drop('Make', 1)"
     ],
     "language": "python",
     "metadata": {},
     "outputs": [],
     "prompt_number": 4
    },
    {
     "cell_type": "code",
     "collapsed": false,
     "input": [
      "#change all rotary values in cylinders to 0\n",
      "projectDF['Cylinders'].replace('rotary', 0)"
     ],
     "language": "python",
     "metadata": {},
     "outputs": [
      {
       "metadata": {},
       "output_type": "pyout",
       "prompt_number": 5,
       "text": [
        "1     4\n",
        "2     6\n",
        "3     6\n",
        "4     6\n",
        "5     4\n",
        "6     4\n",
        "7     6\n",
        "8     6\n",
        "9     6\n",
        "10    8\n",
        "11    8\n",
        "12    4\n",
        "13    4\n",
        "14    6\n",
        "15    4\n",
        "...\n",
        "79    4\n",
        "80    3\n",
        "81    4\n",
        "82    4\n",
        "83    3\n",
        "84    4\n",
        "85    4\n",
        "86    4\n",
        "87    4\n",
        "88    4\n",
        "89    5\n",
        "90    4\n",
        "91    6\n",
        "92    4\n",
        "93    5\n",
        "Name: Cylinders, Length: 93, dtype: object"
       ]
      }
     ],
     "prompt_number": 5
    },
    {
     "cell_type": "code",
     "collapsed": false,
     "input": [
      "#fills in all the NaN with 0\n",
      "#This is for the rear.seat column and the luggage.room column\n",
      "projectDF = projectDF.fillna(0);\n",
      "projectDF"
     ],
     "language": "python",
     "metadata": {},
     "outputs": [
      {
       "ename": "ValueError",
       "evalue": "fill value must be in categories",
       "output_type": "pyerr",
       "traceback": [
        "\u001b[1;31m---------------------------------------------------------------------------\u001b[0m\n\u001b[1;31mValueError\u001b[0m                                Traceback (most recent call last)",
        "\u001b[1;32m<ipython-input-6-df4d95815670>\u001b[0m in \u001b[0;36m<module>\u001b[1;34m()\u001b[0m\n\u001b[0;32m      1\u001b[0m \u001b[1;31m#fills in all the NaN with 0\u001b[0m\u001b[1;33m\u001b[0m\u001b[1;33m\u001b[0m\u001b[0m\n\u001b[1;32m----> 2\u001b[1;33m \u001b[0mprojectDF\u001b[0m \u001b[1;33m=\u001b[0m \u001b[0mprojectDF\u001b[0m\u001b[1;33m.\u001b[0m\u001b[0mfillna\u001b[0m\u001b[1;33m(\u001b[0m\u001b[1;36m0\u001b[0m\u001b[1;33m)\u001b[0m\u001b[1;33m;\u001b[0m\u001b[1;33m\u001b[0m\u001b[0m\n\u001b[0m\u001b[0;32m      3\u001b[0m \u001b[0mprojectDF\u001b[0m\u001b[1;33m\u001b[0m\u001b[0m\n",
        "\u001b[1;32mC:\\Users\\Andrew\\AppData\\Local\\Enthought\\Canopy\\User\\lib\\site-packages\\pandas\\core\\generic.pyc\u001b[0m in \u001b[0;36mfillna\u001b[1;34m(self, value, method, axis, inplace, limit, downcast)\u001b[0m\n\u001b[0;32m   2358\u001b[0m                                              \u001b[0mlimit\u001b[0m\u001b[1;33m=\u001b[0m\u001b[0mlimit\u001b[0m\u001b[1;33m,\u001b[0m\u001b[1;33m\u001b[0m\u001b[0m\n\u001b[0;32m   2359\u001b[0m                                              \u001b[0minplace\u001b[0m\u001b[1;33m=\u001b[0m\u001b[0minplace\u001b[0m\u001b[1;33m,\u001b[0m\u001b[1;33m\u001b[0m\u001b[0m\n\u001b[1;32m-> 2360\u001b[1;33m                                              downcast=downcast)\n\u001b[0m\u001b[0;32m   2361\u001b[0m             \u001b[1;32melif\u001b[0m \u001b[0misinstance\u001b[0m\u001b[1;33m(\u001b[0m\u001b[0mvalue\u001b[0m\u001b[1;33m,\u001b[0m \u001b[0mDataFrame\u001b[0m\u001b[1;33m)\u001b[0m \u001b[1;32mand\u001b[0m \u001b[0mself\u001b[0m\u001b[1;33m.\u001b[0m\u001b[0mndim\u001b[0m \u001b[1;33m==\u001b[0m \u001b[1;36m2\u001b[0m\u001b[1;33m:\u001b[0m\u001b[1;33m\u001b[0m\u001b[0m\n\u001b[0;32m   2362\u001b[0m                 \u001b[0mnew_data\u001b[0m \u001b[1;33m=\u001b[0m \u001b[0mself\u001b[0m\u001b[1;33m.\u001b[0m\u001b[0mwhere\u001b[0m\u001b[1;33m(\u001b[0m\u001b[0mself\u001b[0m\u001b[1;33m.\u001b[0m\u001b[0mnotnull\u001b[0m\u001b[1;33m(\u001b[0m\u001b[1;33m)\u001b[0m\u001b[1;33m,\u001b[0m \u001b[0mvalue\u001b[0m\u001b[1;33m)\u001b[0m\u001b[1;33m\u001b[0m\u001b[0m\n",
        "\u001b[1;32mC:\\Users\\Andrew\\AppData\\Local\\Enthought\\Canopy\\User\\lib\\site-packages\\pandas\\core\\internals.pyc\u001b[0m in \u001b[0;36mfillna\u001b[1;34m(self, **kwargs)\u001b[0m\n\u001b[0;32m   2455\u001b[0m \u001b[1;33m\u001b[0m\u001b[0m\n\u001b[0;32m   2456\u001b[0m     \u001b[1;32mdef\u001b[0m \u001b[0mfillna\u001b[0m\u001b[1;33m(\u001b[0m\u001b[0mself\u001b[0m\u001b[1;33m,\u001b[0m \u001b[1;33m**\u001b[0m\u001b[0mkwargs\u001b[0m\u001b[1;33m)\u001b[0m\u001b[1;33m:\u001b[0m\u001b[1;33m\u001b[0m\u001b[0m\n\u001b[1;32m-> 2457\u001b[1;33m         \u001b[1;32mreturn\u001b[0m \u001b[0mself\u001b[0m\u001b[1;33m.\u001b[0m\u001b[0mapply\u001b[0m\u001b[1;33m(\u001b[0m\u001b[1;34m'fillna'\u001b[0m\u001b[1;33m,\u001b[0m \u001b[1;33m**\u001b[0m\u001b[0mkwargs\u001b[0m\u001b[1;33m)\u001b[0m\u001b[1;33m\u001b[0m\u001b[0m\n\u001b[0m\u001b[0;32m   2458\u001b[0m \u001b[1;33m\u001b[0m\u001b[0m\n\u001b[0;32m   2459\u001b[0m     \u001b[1;32mdef\u001b[0m \u001b[0mdowncast\u001b[0m\u001b[1;33m(\u001b[0m\u001b[0mself\u001b[0m\u001b[1;33m,\u001b[0m \u001b[1;33m**\u001b[0m\u001b[0mkwargs\u001b[0m\u001b[1;33m)\u001b[0m\u001b[1;33m:\u001b[0m\u001b[1;33m\u001b[0m\u001b[0m\n",
        "\u001b[1;32mC:\\Users\\Andrew\\AppData\\Local\\Enthought\\Canopy\\User\\lib\\site-packages\\pandas\\core\\internals.pyc\u001b[0m in \u001b[0;36mapply\u001b[1;34m(self, f, axes, filter, do_integrity_check, **kwargs)\u001b[0m\n\u001b[0;32m   2416\u001b[0m                                                  copy=align_copy)\n\u001b[0;32m   2417\u001b[0m \u001b[1;33m\u001b[0m\u001b[0m\n\u001b[1;32m-> 2418\u001b[1;33m             \u001b[0mapplied\u001b[0m \u001b[1;33m=\u001b[0m \u001b[0mgetattr\u001b[0m\u001b[1;33m(\u001b[0m\u001b[0mb\u001b[0m\u001b[1;33m,\u001b[0m \u001b[0mf\u001b[0m\u001b[1;33m)\u001b[0m\u001b[1;33m(\u001b[0m\u001b[1;33m**\u001b[0m\u001b[0mkwargs\u001b[0m\u001b[1;33m)\u001b[0m\u001b[1;33m\u001b[0m\u001b[0m\n\u001b[0m\u001b[0;32m   2419\u001b[0m \u001b[1;33m\u001b[0m\u001b[0m\n\u001b[0;32m   2420\u001b[0m             \u001b[1;32mif\u001b[0m \u001b[0misinstance\u001b[0m\u001b[1;33m(\u001b[0m\u001b[0mapplied\u001b[0m\u001b[1;33m,\u001b[0m \u001b[0mlist\u001b[0m\u001b[1;33m)\u001b[0m\u001b[1;33m:\u001b[0m\u001b[1;33m\u001b[0m\u001b[0m\n",
        "\u001b[1;32mC:\\Users\\Andrew\\AppData\\Local\\Enthought\\Canopy\\User\\lib\\site-packages\\pandas\\core\\internals.pyc\u001b[0m in \u001b[0;36mfillna\u001b[1;34m(self, value, limit, inplace, downcast)\u001b[0m\n\u001b[0;32m   1619\u001b[0m         \u001b[0mvalues\u001b[0m \u001b[1;33m=\u001b[0m \u001b[0mself\u001b[0m\u001b[1;33m.\u001b[0m\u001b[0mvalues\u001b[0m \u001b[1;32mif\u001b[0m \u001b[0minplace\u001b[0m \u001b[1;32melse\u001b[0m \u001b[0mself\u001b[0m\u001b[1;33m.\u001b[0m\u001b[0mvalues\u001b[0m\u001b[1;33m.\u001b[0m\u001b[0mcopy\u001b[0m\u001b[1;33m(\u001b[0m\u001b[1;33m)\u001b[0m\u001b[1;33m\u001b[0m\u001b[0m\n\u001b[0;32m   1620\u001b[0m         return [self.make_block_same_class(values=values.fillna(fill_value=value,\n\u001b[1;32m-> 1621\u001b[1;33m                                                                 limit=limit),\n\u001b[0m\u001b[0;32m   1622\u001b[0m                                            placement=self.mgr_locs)]\n\u001b[0;32m   1623\u001b[0m \u001b[1;33m\u001b[0m\u001b[0m\n",
        "\u001b[1;32mC:\\Users\\Andrew\\AppData\\Local\\Enthought\\Canopy\\User\\lib\\site-packages\\pandas\\core\\categorical.pyc\u001b[0m in \u001b[0;36mfillna\u001b[1;34m(self, fill_value, method, limit, **kwargs)\u001b[0m\n\u001b[0;32m    993\u001b[0m \u001b[1;33m\u001b[0m\u001b[0m\n\u001b[0;32m    994\u001b[0m             \u001b[1;32mif\u001b[0m \u001b[1;32mnot\u001b[0m \u001b[0mcom\u001b[0m\u001b[1;33m.\u001b[0m\u001b[0misnull\u001b[0m\u001b[1;33m(\u001b[0m\u001b[0mfill_value\u001b[0m\u001b[1;33m)\u001b[0m \u001b[1;32mand\u001b[0m \u001b[0mfill_value\u001b[0m \u001b[1;32mnot\u001b[0m \u001b[1;32min\u001b[0m \u001b[0mself\u001b[0m\u001b[1;33m.\u001b[0m\u001b[0mcategories\u001b[0m\u001b[1;33m:\u001b[0m\u001b[1;33m\u001b[0m\u001b[0m\n\u001b[1;32m--> 995\u001b[1;33m                 \u001b[1;32mraise\u001b[0m \u001b[0mValueError\u001b[0m\u001b[1;33m(\u001b[0m\u001b[1;34m\"fill value must be in categories\"\u001b[0m\u001b[1;33m)\u001b[0m\u001b[1;33m\u001b[0m\u001b[0m\n\u001b[0m\u001b[0;32m    996\u001b[0m \u001b[1;33m\u001b[0m\u001b[0m\n\u001b[0;32m    997\u001b[0m             \u001b[0mmask\u001b[0m \u001b[1;33m=\u001b[0m \u001b[0mvalues\u001b[0m\u001b[1;33m==\u001b[0m\u001b[1;33m-\u001b[0m\u001b[1;36m1\u001b[0m\u001b[1;33m\u001b[0m\u001b[0m\n",
        "\u001b[1;31mValueError\u001b[0m: fill value must be in categories"
       ]
      }
     ],
     "prompt_number": 6
    },
    {
     "cell_type": "code",
     "collapsed": false,
     "input": [
      "#Summary of variables\n",
      "pd.value_counts(projectDF['MPG.city'])\n",
      "#for the MPG.city column, there are 25 values in 14 to 17.9999999,  24 values in 18 to 20.99999999, \n",
      "#26 values in 21 to 24.99999, and 18 values in 25 to 46\n",
      "#this means we have the most values in the middle of the data less on the outside"
     ],
     "language": "python",
     "metadata": {},
     "outputs": []
    },
    {
     "cell_type": "code",
     "collapsed": false,
     "input": [
      "#summary of fuel tank capacity\n",
      "projectDF['Fuel.tank.capacity'].describe()\n",
      "#the lowest fuel capactiy is 9.2 gallons, largest is 27 gallons. \n",
      "#the data is evenly spread since the mean is 16.6 and the median is 16.4. Most data is + or - 3.3 gallons from the mean"
     ],
     "language": "python",
     "metadata": {},
     "outputs": [
      {
       "metadata": {},
       "output_type": "pyout",
       "prompt_number": 7,
       "text": [
        "count    93.000000\n",
        "mean     16.664516\n",
        "std       3.279370\n",
        "min       9.200000\n",
        "25%      14.500000\n",
        "50%      16.400000\n",
        "75%      18.800000\n",
        "max      27.000000\n",
        "Name: Fuel.tank.capacity, dtype: float64"
       ]
      }
     ],
     "prompt_number": 7
    },
    {
     "cell_type": "code",
     "collapsed": false,
     "input": [
      "#summary of the Airbags variable\n",
      "pd.value_counts(projectDF['AirBags'])\n",
      "#there are 43 cars with driver only airbags, 34 with no airbag, and 16 with both passenger and driver air bags\n",
      "#this means that most cars have an airbag, with a vast majority of those only having one on the driver side. "
     ],
     "language": "python",
     "metadata": {},
     "outputs": [
      {
       "metadata": {},
       "output_type": "pyout",
       "prompt_number": 8,
       "text": [
        "Driver only           43\n",
        "None                  34\n",
        "Driver & Passenger    16\n",
        "dtype: int64"
       ]
      }
     ],
     "prompt_number": 8
    },
    {
     "cell_type": "code",
     "collapsed": false,
     "input": [
      "#summary of the Price variable\n",
      "projectDF['Price'].describe()\n",
      "#The averages of the prices is 19.51 which is around $19,510\n",
      "#It also gives the 25%, 50%, and 75% which tells us the price range for cars"
     ],
     "language": "python",
     "metadata": {},
     "outputs": []
    },
    {
     "cell_type": "code",
     "collapsed": false,
     "input": [
      "#Smmary of the MPG.highway variable\n",
      "projectDF['MPG.highway'].describe()\n",
      "#The average of the Miles Per Gallon on highway is 29.086022\n",
      "#On average, the Miles per Gallon on highway is higher than on city"
     ],
     "language": "python",
     "metadata": {},
     "outputs": [
      {
       "metadata": {},
       "output_type": "pyout",
       "prompt_number": 44,
       "text": [
        "count    93.000000\n",
        "mean     29.086022\n",
        "std       5.331726\n",
        "min      20.000000\n",
        "25%      26.000000\n",
        "50%      28.000000\n",
        "75%      31.000000\n",
        "max      50.000000\n",
        "Name: MPG.highway, dtype: float64"
       ]
      }
     ],
     "prompt_number": 44
    },
    {
     "cell_type": "code",
     "collapsed": false,
     "input": [
      "#creates a histogram of the price variable with 8 bins\n",
      "hist = projectDF['Price'].hist(bins = 8)\n",
      "plt.title('histogram of the price variable')\n",
      "histFig = hist.get_figure()\n",
      "histFig.savefig('projectHist.png')\n",
      "plt.clf()\n",
      "#this is found in a ProjectHist.png in the same folder as this one"
     ],
     "language": "python",
     "metadata": {},
     "outputs": [
      {
       "metadata": {},
       "output_type": "display_data",
       "text": [
        "<matplotlib.figure.Figure at 0x973de80>"
       ]
      }
     ],
     "prompt_number": 9
    },
    {
     "cell_type": "code",
     "collapsed": false,
     "input": [
      "#creates a denisty plot of the min price variable\n",
      "dens = projectDF['Price'].plot(kind = 'density')\n",
      "plt.title('density plot of the price variable')\n",
      "densFig = dens.get_figure()\n",
      "densFig.savefig('projectDensity.png')\n",
      "densFig\n",
      "plt.clf()\n",
      "#this is found in a ProjectDensity.png in the same folder as this one"
     ],
     "language": "python",
     "metadata": {},
     "outputs": [
      {
       "metadata": {},
       "output_type": "display_data",
       "text": [
        "<matplotlib.figure.Figure at 0xac6a7f0>"
       ]
      }
     ],
     "prompt_number": 10
    },
    {
     "cell_type": "code",
     "collapsed": false,
     "input": [
      "#creates a histogram of the MPG.highway variable with 8 bins\n",
      "hist = projectDF['MPG.highway'].hist(bins = 8)\n",
      "plt.title('histogram of the MPG.highway variable')\n",
      "histFig = hist.get_figure()\n",
      "histFig.savefig('projectMPGhighway.png')\n",
      "plt.clf()\n",
      "#this is found in a projectMPGhighway.png in the same folder as this one"
     ],
     "language": "python",
     "metadata": {},
     "outputs": [
      {
       "metadata": {},
       "output_type": "display_data",
       "text": [
        "<matplotlib.figure.Figure at 0xac6ad68>"
       ]
      }
     ],
     "prompt_number": 48
    },
    {
     "cell_type": "code",
     "collapsed": false,
     "input": [
      "#creates a histogram of the MPG.city variable with 8 bins\n",
      "#created new instance of cars93 since we changed the data frame above\n",
      "projectDF2 = pd.read_csv('cars93.csv', index_col = 0);\n",
      "hist = projectDF2['MPG.city'].hist(bins = 8)\n",
      "plt.title('histogram of the MPG.city variable')\n",
      "histFig = hist.get_figure()\n",
      "histFig.savefig('projectMPGcity.png')\n",
      "plt.clf()\n",
      "#this is found in a projectMPGcity.png in the same folder as this one"
     ],
     "language": "python",
     "metadata": {},
     "outputs": [
      {
       "metadata": {},
       "output_type": "display_data",
       "text": [
        "<matplotlib.figure.Figure at 0xb3c67f0>"
       ]
      }
     ],
     "prompt_number": 50
    },
    {
     "cell_type": "code",
     "collapsed": false,
     "input": [
      "#creates a scatter plot of the price variable and weight variable\n",
      "scatter = projectDF.plot(kind = 'scatter', x='Price', y='Weight')\n",
      "plt.title('Scatter plot using the variables Price (x) and Weight(y)')\n",
      "scatterFig = scatter.get_figure()\n",
      "scatterFig.savefig('projectScatter.png')\n",
      "plt.clf()\n",
      "#this is found in a ProjectScatter.png in the same folder as this one"
     ],
     "language": "python",
     "metadata": {},
     "outputs": [
      {
       "metadata": {},
       "output_type": "display_data",
       "text": [
        "<matplotlib.figure.Figure at 0x9744198>"
       ]
      }
     ],
     "prompt_number": 21
    },
    {
     "cell_type": "code",
     "collapsed": false,
     "input": [
      "#writing the dataframe to csv called ProjectDF.csv\n",
      "projectDF.to_csv(\"ProjectDF.csv\")\n",
      "projectDF.to_pickle(\"ProjectDF.pickle\")"
     ],
     "language": "python",
     "metadata": {},
     "outputs": [],
     "prompt_number": 51
    },
    {
     "cell_type": "code",
     "collapsed": false,
     "input": [
      "#pyper code\n",
      "#the seperate R file has more comments inside\n",
      "r = pr.R(RCMD = 'C:\\\\Program Files\\\\R\\\\R-3.1.2\\\\bin\\\\R', use_pandas=True)\n",
      "r.assign(\"projectData\", projectDF)\n",
      "r(\"library(rpart)\")\n",
      "r(\"library(ROCR)\")\n",
      "r(\"projectData$MPG.highway = findInterval(projectData$MPG.highway, c(29))\")\n",
      "r(\"vars = c(\\\"Cylinders\\\", \\\"Horsepower\\\", \\\"RPM\\\", \\\"Rev.per.mile\\\", \\\"Price\\\", \\\"Weight\\\", \\\"EngineSize\\\")\")\n",
      "r(\"temp <- paste('MPG.highway ~ ',paste(vars,collapse=' + '),sep='')\")\n",
      "r(\"tmodel <- rpart(temp,data=projectData)\")\n",
      "r(\"projectData$pred <- predict(tmodel, newdata = projectData)\")\n",
      "r(\"eval <- prediction(projectData$pred, projectData$MPG.highway)\")\n",
      "r(\"auc_calc <- performance(eval,'auc')\")\n",
      "print r(\"auc_calc@y.values\")\n",
      "#R code outputs 0.9601113, which is close to 1 so the prediction model is good"
     ],
     "language": "python",
     "metadata": {},
     "outputs": [
      {
       "output_type": "stream",
       "stream": "stdout",
       "text": [
        "try({auc_calc@y.values})\r\n",
        "[[1]]\r\n",
        "[1] 0.9601113\r\n",
        "\r\n",
        "\n"
       ]
      }
     ],
     "prompt_number": 43
    },
    {
     "cell_type": "code",
     "collapsed": false,
     "input": [],
     "language": "python",
     "metadata": {},
     "outputs": [],
     "prompt_number": 30
    },
    {
     "cell_type": "code",
     "collapsed": false,
     "input": [],
     "language": "python",
     "metadata": {},
     "outputs": [],
     "prompt_number": 30
    },
    {
     "cell_type": "code",
     "collapsed": false,
     "input": [],
     "language": "python",
     "metadata": {},
     "outputs": [],
     "prompt_number": 13
    },
    {
     "cell_type": "code",
     "collapsed": false,
     "input": [],
     "language": "python",
     "metadata": {},
     "outputs": []
    }
   ],
   "metadata": {}
  }
 ]
}