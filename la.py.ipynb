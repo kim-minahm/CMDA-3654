{
 "metadata": {
  "name": "la.py.ipynb",
  "signature": "sha256:b7d7ce1af7e1cfb485a9997a9e33b84ffb70c707f22b44d3b9742fa330accb56"
 },
 "nbformat": 3,
 "nbformat_minor": 0,
 "worksheets": [
  {
   "cells": [
    {
     "cell_type": "code",
     "collapsed": false,
     "input": [
      "%pylab inline"
     ],
     "language": "python",
     "metadata": {},
     "outputs": [
      {
       "output_type": "stream",
       "stream": "stdout",
       "text": [
        "Populating the interactive namespace from numpy and matplotlib\n"
       ]
      }
     ],
     "prompt_number": 1
    },
    {
     "cell_type": "code",
     "collapsed": false,
     "input": [
      "import sklearn as sk\n",
      "import numpy as np\n",
      "import scipy as sp\n",
      "import pandas as pd\n",
      "import matplotlib.pyplot as plt"
     ],
     "language": "python",
     "metadata": {},
     "outputs": [],
     "prompt_number": 2
    },
    {
     "cell_type": "heading",
     "level": 1,
     "metadata": {},
     "source": [
      "Principal Components Analysis"
     ]
    },
    {
     "cell_type": "heading",
     "level": 3,
     "metadata": {},
     "source": [
      "Dimensionality Reduction and Visualization"
     ]
    },
    {
     "cell_type": "heading",
     "level": 6,
     "metadata": {},
     "source": [
      "#Get the digits data"
     ]
    },
    {
     "cell_type": "code",
     "collapsed": false,
     "input": [
      "from sklearn.datasets import load_digits\n",
      "digits = load_digits()"
     ],
     "language": "python",
     "metadata": {},
     "outputs": [],
     "prompt_number": 3
    },
    {
     "cell_type": "heading",
     "level": 6,
     "metadata": {},
     "source": [
      "#What does the digits dataset contain?"
     ]
    },
    {
     "cell_type": "code",
     "collapsed": false,
     "input": [
      "print digits.keys()"
     ],
     "language": "python",
     "metadata": {},
     "outputs": [
      {
       "output_type": "stream",
       "stream": "stdout",
       "text": [
        "['images', 'data', 'target_names', 'DESCR', 'target']\n"
       ]
      }
     ],
     "prompt_number": 4
    },
    {
     "cell_type": "heading",
     "level": 6,
     "metadata": {},
     "source": [
      "#Each row of data in X_digits corresponds to one of the following digits:"
     ]
    },
    {
     "cell_type": "code",
     "collapsed": false,
     "input": [
      "digits.target_names"
     ],
     "language": "python",
     "metadata": {},
     "outputs": [
      {
       "metadata": {},
       "output_type": "pyout",
       "prompt_number": 5,
       "text": [
        "array([0, 1, 2, 3, 4, 5, 6, 7, 8, 9])"
       ]
      }
     ],
     "prompt_number": 5
    },
    {
     "cell_type": "code",
     "collapsed": false,
     "input": [
      "X_digits, y_digits = digits.data, digits.target"
     ],
     "language": "python",
     "metadata": {},
     "outputs": [],
     "prompt_number": 6
    },
    {
     "cell_type": "heading",
     "level": 6,
     "metadata": {},
     "source": [
      "#What does the X matrix look like?"
     ]
    },
    {
     "cell_type": "code",
     "collapsed": false,
     "input": [
      "X_digits.shape"
     ],
     "language": "python",
     "metadata": {},
     "outputs": [
      {
       "metadata": {},
       "output_type": "pyout",
       "prompt_number": 8,
       "text": [
        "(1797L, 64L)"
       ]
      }
     ],
     "prompt_number": 8
    },
    {
     "cell_type": "heading",
     "level": 6,
     "metadata": {},
     "source": [
      "#Get the first 10 principal components of the X_digits matrix"
     ]
    },
    {
     "cell_type": "code",
     "collapsed": false,
     "input": [
      "from sklearn.decomposition import PCA\n",
      "\n",
      "estimator = PCA(n_components=10)\n",
      "X_pca = estimator.fit_transform(X_digits)"
     ],
     "language": "python",
     "metadata": {},
     "outputs": [],
     "prompt_number": 9
    },
    {
     "cell_type": "heading",
     "level": 6,
     "metadata": {},
     "source": [
      "#What does the PCA matrix looks like"
     ]
    },
    {
     "cell_type": "code",
     "collapsed": false,
     "input": [
      "X_pca.shape"
     ],
     "language": "python",
     "metadata": {},
     "outputs": [
      {
       "metadata": {},
       "output_type": "pyout",
       "prompt_number": 17,
       "text": [
        "(1797L, 10L)"
       ]
      }
     ],
     "prompt_number": 17
    },
    {
     "cell_type": "code",
     "collapsed": false,
     "input": [
      "X_pca"
     ],
     "language": "python",
     "metadata": {},
     "outputs": [
      {
       "metadata": {},
       "output_type": "pyout",
       "prompt_number": 18,
       "text": [
        "array([[  1.25946645, -21.27488348,   9.46305462, ...,  -2.55347036,\n",
        "          0.58184214,  -3.62569695],\n",
        "       [ -7.9576113 ,  20.76869896,  -4.43950604, ...,   4.61593641,\n",
        "         -3.58745013,   1.07470456],\n",
        "       [ -6.99192297,   9.95598641,  -2.95855808, ...,  16.41519983,\n",
        "         -0.7192329 ,  -4.25580548],\n",
        "       ..., \n",
        "       [-10.8012837 ,   6.96025223,  -5.59955453, ...,   7.4150719 ,\n",
        "          3.96158533,  13.06509519],\n",
        "       [  4.87210009, -12.42395362,  10.17086635, ...,   4.35789156,\n",
        "         -3.93924173,  13.14525475],\n",
        "       [  0.34438963,  -6.36554919, -10.77370849, ...,  -0.66902071,\n",
        "          4.11316505,  12.56200443]])"
       ]
      }
     ],
     "prompt_number": 18
    },
    {
     "cell_type": "heading",
     "level": 6,
     "metadata": {},
     "source": [
      "#Visualize our data using the first two principal components in a scatterplot"
     ]
    },
    {
     "cell_type": "code",
     "collapsed": false,
     "input": [
      "colors = ['black', 'blue', 'purple', 'yellow', 'white', 'red', 'lime', 'cyan', 'orange', 'gray']\n",
      "for i in xrange(len(colors)):\n",
      "    px = X_pca[:, 0][y_digits == i]\n",
      "    py = X_pca[:, 1][y_digits == i]\n",
      "    plt.hexbin(px, py, c=colors[i])\n",
      "plt.legend(digits.target_names)\n",
      "plt.xlabel('First Principal Component')\n",
      "plt.ylabel('Second Principal Component')"
     ],
     "language": "python",
     "metadata": {},
     "outputs": []
    },
    {
     "cell_type": "code",
     "collapsed": false,
     "input": [],
     "language": "python",
     "metadata": {},
     "outputs": []
    }
   ],
   "metadata": {}
  }
 ]
}